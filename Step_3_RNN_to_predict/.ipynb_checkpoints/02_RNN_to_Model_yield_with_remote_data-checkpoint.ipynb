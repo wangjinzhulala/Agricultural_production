{
 "cells": [
  {
   "cell_type": "code",
   "execution_count": 1,
   "metadata": {
    "scrolled": true
   },
   "outputs": [
    {
     "name": "stderr",
     "output_type": "stream",
     "text": [
      "In C:\\Users\\wangj\\Anaconda3\\envs\\ee_py3\\lib\\site-packages\\matplotlib\\mpl-data\\stylelib\\_classic_test.mplstyle: \n",
      "The text.latex.preview rcparam was deprecated in Matplotlib 3.3 and will be removed two minor releases later.\n",
      "In C:\\Users\\wangj\\Anaconda3\\envs\\ee_py3\\lib\\site-packages\\matplotlib\\mpl-data\\stylelib\\_classic_test.mplstyle: \n",
      "The mathtext.fallback_to_cm rcparam was deprecated in Matplotlib 3.3 and will be removed two minor releases later.\n",
      "In C:\\Users\\wangj\\Anaconda3\\envs\\ee_py3\\lib\\site-packages\\matplotlib\\mpl-data\\stylelib\\_classic_test.mplstyle: Support for setting the 'mathtext.fallback_to_cm' rcParam is deprecated since 3.3 and will be removed two minor releases later; use 'mathtext.fallback : 'cm' instead.\n",
      "In C:\\Users\\wangj\\Anaconda3\\envs\\ee_py3\\lib\\site-packages\\matplotlib\\mpl-data\\stylelib\\_classic_test.mplstyle: \n",
      "The validate_bool_maybe_none function was deprecated in Matplotlib 3.3 and will be removed two minor releases later.\n",
      "In C:\\Users\\wangj\\Anaconda3\\envs\\ee_py3\\lib\\site-packages\\matplotlib\\mpl-data\\stylelib\\_classic_test.mplstyle: \n",
      "The savefig.jpeg_quality rcparam was deprecated in Matplotlib 3.3 and will be removed two minor releases later.\n",
      "In C:\\Users\\wangj\\Anaconda3\\envs\\ee_py3\\lib\\site-packages\\matplotlib\\mpl-data\\stylelib\\_classic_test.mplstyle: \n",
      "The keymap.all_axes rcparam was deprecated in Matplotlib 3.3 and will be removed two minor releases later.\n",
      "In C:\\Users\\wangj\\Anaconda3\\envs\\ee_py3\\lib\\site-packages\\matplotlib\\mpl-data\\stylelib\\_classic_test.mplstyle: \n",
      "The animation.avconv_path rcparam was deprecated in Matplotlib 3.3 and will be removed two minor releases later.\n",
      "In C:\\Users\\wangj\\Anaconda3\\envs\\ee_py3\\lib\\site-packages\\matplotlib\\mpl-data\\stylelib\\_classic_test.mplstyle: \n",
      "The animation.avconv_args rcparam was deprecated in Matplotlib 3.3 and will be removed two minor releases later.\n"
     ]
    }
   ],
   "source": [
    "import pandas as pd\n",
    "import numpy as np\n",
    "import matplotlib.pyplot as plt\n",
    "import seaborn as sns\n",
    "\n",
    "from sklearn.model_selection import train_test_split\n",
    "from sklearn.preprocessing import MinMaxScaler"
   ]
  },
  {
   "cell_type": "code",
   "execution_count": null,
   "metadata": {},
   "outputs": [],
   "source": []
  },
  {
   "cell_type": "code",
   "execution_count": 2,
   "metadata": {},
   "outputs": [],
   "source": [
    "# read yrbook_remote data\n",
    "mean_yield_yrbook = pd.read_pickle('./Data/Yearbook_link_remote.pkl')"
   ]
  },
  {
   "cell_type": "code",
   "execution_count": null,
   "metadata": {},
   "outputs": [],
   "source": []
  },
  {
   "cell_type": "code",
   "execution_count": 3,
   "metadata": {},
   "outputs": [],
   "source": [
    "# get the mean_yield data of wheat and cron\n",
    "mean_yield_yrbook_wheat = mean_yield_yrbook[mean_yield_yrbook['Crop']=='Wheat']\n",
    "mean_yield_yrbook_corn = mean_yield_yrbook[mean_yield_yrbook['Crop']=='Corn']"
   ]
  },
  {
   "cell_type": "code",
   "execution_count": null,
   "metadata": {},
   "outputs": [],
   "source": []
  },
  {
   "cell_type": "markdown",
   "metadata": {},
   "source": [
    "##### RNN model for wheat"
   ]
  },
  {
   "cell_type": "code",
   "execution_count": 4,
   "metadata": {},
   "outputs": [],
   "source": [
    "# convert the data into array\n",
    "X = np.array([in_df.drop(['Date','NAME'],1).values for in_df in mean_yield_yrbook_wheat['In_feature'].values])\n",
    "y = np.array(mean_yield_yrbook_wheat['Value']).reshape(-1,1)"
   ]
  },
  {
   "cell_type": "code",
   "execution_count": null,
   "metadata": {},
   "outputs": [],
   "source": []
  },
  {
   "cell_type": "code",
   "execution_count": 5,
   "metadata": {},
   "outputs": [],
   "source": [
    "# train_test_split\n",
    "X_train, X_test, y_train, y_test = train_test_split(X, y, test_size=0.2, random_state=42)"
   ]
  },
  {
   "cell_type": "code",
   "execution_count": null,
   "metadata": {},
   "outputs": [],
   "source": []
  },
  {
   "cell_type": "code",
   "execution_count": 6,
   "metadata": {
    "scrolled": true
   },
   "outputs": [],
   "source": [
    "# standardize the data\n",
    "scaler = MinMaxScaler()\n",
    "\n",
    "# convert the data from 3d to 2d\n",
    "X_train_2d = X_train.reshape(-1,X_train.shape[2])\n",
    "X_test_2d = X_test.reshape(-1,X_test.shape[2])\n",
    "\n",
    "# stadardized the 2d data\n",
    "X_train_2d_standard = scaler.fit_transform(X_train_2d)\n",
    "X_test_2d_standard = scaler.transform(X_test_2d)\n",
    "\n",
    "# reshape the 2d data back to 3d\n",
    "X_train_standard = X_train_2d_standard.reshape(X_train.shape)\n",
    "X_test_standard = X_test_2d_standard.reshape(X_test.shape)"
   ]
  },
  {
   "cell_type": "code",
   "execution_count": null,
   "metadata": {},
   "outputs": [],
   "source": []
  },
  {
   "cell_type": "markdown",
   "metadata": {},
   "source": [
    "##### Built the RNN model"
   ]
  },
  {
   "cell_type": "code",
   "execution_count": 51,
   "metadata": {},
   "outputs": [],
   "source": [
    "from tensorflow.keras.models import Sequential\n",
    "from tensorflow.keras.layers import Dense,LSTM,BatchNormalization,Dropout\n",
    "from tensorflow.keras.optimizers import SGD"
   ]
  },
  {
   "cell_type": "code",
   "execution_count": null,
   "metadata": {},
   "outputs": [],
   "source": []
  },
  {
   "cell_type": "code",
   "execution_count": 56,
   "metadata": {},
   "outputs": [],
   "source": [
    "regressior = Sequential()\n",
    "\n",
    "regressior.add(LSTM(units=120,input_shape = (X_train.shape[1:])))\n",
    "regressior.add(Dropout(0.5))\n",
    "\n",
    "regressior.add(Dense(units=1))"
   ]
  },
  {
   "cell_type": "code",
   "execution_count": null,
   "metadata": {},
   "outputs": [],
   "source": []
  },
  {
   "cell_type": "code",
   "execution_count": 57,
   "metadata": {},
   "outputs": [
    {
     "name": "stdout",
     "output_type": "stream",
     "text": [
      "Model: \"sequential_10\"\n",
      "_________________________________________________________________\n",
      "Layer (type)                 Output Shape              Param #   \n",
      "=================================================================\n",
      "lstm_16 (LSTM)               (None, 120)               61440     \n",
      "_________________________________________________________________\n",
      "dropout_13 (Dropout)         (None, 120)               0         \n",
      "_________________________________________________________________\n",
      "dense_5 (Dense)              (None, 1)                 121       \n",
      "=================================================================\n",
      "Total params: 61,561\n",
      "Trainable params: 61,561\n",
      "Non-trainable params: 0\n",
      "_________________________________________________________________\n"
     ]
    }
   ],
   "source": [
    "regressior.summary()"
   ]
  },
  {
   "cell_type": "code",
   "execution_count": null,
   "metadata": {},
   "outputs": [],
   "source": []
  },
  {
   "cell_type": "code",
   "execution_count": 58,
   "metadata": {},
   "outputs": [],
   "source": [
    "regressior.compile(optimizer='adam',loss='mse')"
   ]
  },
  {
   "cell_type": "code",
   "execution_count": 59,
   "metadata": {},
   "outputs": [
    {
     "name": "stdout",
     "output_type": "stream",
     "text": [
      "Train on 1378 samples, validate on 345 samples\n",
      "Epoch 1/10\n",
      "1378/1378 [==============================] - 7s 5ms/sample - loss: 31623861.9158 - val_loss: 30778558.8000\n",
      "Epoch 2/10\n",
      "1378/1378 [==============================] - 7s 5ms/sample - loss: 31562759.8229 - val_loss: 30774958.8812\n",
      "Epoch 3/10\n",
      "1378/1378 [==============================] - 7s 5ms/sample - loss: 31513562.4906 - val_loss: 30775242.4928\n",
      "Epoch 4/10\n",
      "1378/1378 [==============================] - 7s 5ms/sample - loss: 31479693.6923 - val_loss: 30774541.2058\n",
      "Epoch 5/10\n",
      "1378/1378 [==============================] - 7s 5ms/sample - loss: 31452947.3004 - val_loss: 30771627.3159\n",
      "Epoch 6/10\n",
      "1378/1378 [==============================] - 7s 5ms/sample - loss: 31431543.5181 - val_loss: 30770412.5797\n",
      "Epoch 7/10\n",
      "1378/1378 [==============================] - 7s 5ms/sample - loss: 31413747.2134 - val_loss: 30771979.2174\n",
      "Epoch 8/10\n",
      "1378/1378 [==============================] - 7s 5ms/sample - loss: 31395940.7199 - val_loss: 30770927.0609\n",
      "Epoch 9/10\n",
      "1378/1378 [==============================] - 8s 6ms/sample - loss: 31378502.1829 - val_loss: 30769879.4203\n",
      "Epoch 10/10\n",
      "1378/1378 [==============================] - 8s 6ms/sample - loss: 31363206.1655 - val_loss: 30768573.8783\n"
     ]
    },
    {
     "data": {
      "text/plain": [
       "<tensorflow.python.keras.callbacks.History at 0x212948c6a58>"
      ]
     },
     "execution_count": 59,
     "metadata": {},
     "output_type": "execute_result"
    }
   ],
   "source": [
    "regressior.fit(X_train_standard,y_train,epochs=10,batch_size=128,validation_data=(X_test,y_test))"
   ]
  },
  {
   "cell_type": "code",
   "execution_count": 60,
   "metadata": {},
   "outputs": [
    {
     "data": {
      "text/plain": [
       "<AxesSubplot:>"
      ]
     },
     "execution_count": 60,
     "metadata": {},
     "output_type": "execute_result"
    },
    {
     "data": {
      "image/png": "[encoded data removed]",
      "text/plain": [
       "<Figure size 432x288 with 1 Axes>"
      ]
     },
     "metadata": {
      "needs_background": "light"
     },
     "output_type": "display_data"
    }
   ],
   "source": [
    "pd.DataFrame(regressior.history.history).plot()"
   ]
  },
  {
   "cell_type": "code",
   "execution_count": null,
   "metadata": {},
   "outputs": [],
   "source": []
  },
  {
   "cell_type": "code",
   "execution_count": null,
   "metadata": {},
   "outputs": [],
   "source": []
  },
  {
   "cell_type": "code",
   "execution_count": null,
   "metadata": {},
   "outputs": [],
   "source": []
  },
  {
   "cell_type": "code",
   "execution_count": null,
   "metadata": {},
   "outputs": [],
   "source": []
  }
 ],
 "metadata": {
  "kernelspec": {
   "display_name": "Python 3",
   "language": "python",
   "name": "python3"
  },
  "language_info": {
   "codemirror_mode": {
    "name": "ipython",
    "version": 3
   },
   "file_extension": ".py",
   "mimetype": "text/x-python",
   "name": "python",
   "nbconvert_exporter": "python",
   "pygments_lexer": "ipython3",
   "version": "3.7.3"
  }
 },
 "nbformat": 4,
 "nbformat_minor": 2
}
