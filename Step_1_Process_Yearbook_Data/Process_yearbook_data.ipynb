{
 "cells": [
  {
   "cell_type": "code",
   "execution_count": 1,
   "metadata": {},
   "outputs": [
    {
     "name": "stderr",
     "output_type": "stream",
     "text": [
      "In C:\\Users\\wangj\\Anaconda3\\envs\\ee_py3\\lib\\site-packages\\matplotlib\\mpl-data\\stylelib\\_classic_test.mplstyle: \n",
      "The text.latex.preview rcparam was deprecated in Matplotlib 3.3 and will be removed two minor releases later.\n",
      "In C:\\Users\\wangj\\Anaconda3\\envs\\ee_py3\\lib\\site-packages\\matplotlib\\mpl-data\\stylelib\\_classic_test.mplstyle: \n",
      "The mathtext.fallback_to_cm rcparam was deprecated in Matplotlib 3.3 and will be removed two minor releases later.\n",
      "In C:\\Users\\wangj\\Anaconda3\\envs\\ee_py3\\lib\\site-packages\\matplotlib\\mpl-data\\stylelib\\_classic_test.mplstyle: Support for setting the 'mathtext.fallback_to_cm' rcParam is deprecated since 3.3 and will be removed two minor releases later; use 'mathtext.fallback : 'cm' instead.\n",
      "In C:\\Users\\wangj\\Anaconda3\\envs\\ee_py3\\lib\\site-packages\\matplotlib\\mpl-data\\stylelib\\_classic_test.mplstyle: \n",
      "The validate_bool_maybe_none function was deprecated in Matplotlib 3.3 and will be removed two minor releases later.\n",
      "In C:\\Users\\wangj\\Anaconda3\\envs\\ee_py3\\lib\\site-packages\\matplotlib\\mpl-data\\stylelib\\_classic_test.mplstyle: \n",
      "The savefig.jpeg_quality rcparam was deprecated in Matplotlib 3.3 and will be removed two minor releases later.\n",
      "In C:\\Users\\wangj\\Anaconda3\\envs\\ee_py3\\lib\\site-packages\\matplotlib\\mpl-data\\stylelib\\_classic_test.mplstyle: \n",
      "The keymap.all_axes rcparam was deprecated in Matplotlib 3.3 and will be removed two minor releases later.\n",
      "In C:\\Users\\wangj\\Anaconda3\\envs\\ee_py3\\lib\\site-packages\\matplotlib\\mpl-data\\stylelib\\_classic_test.mplstyle: \n",
      "The animation.avconv_path rcparam was deprecated in Matplotlib 3.3 and will be removed two minor releases later.\n",
      "In C:\\Users\\wangj\\Anaconda3\\envs\\ee_py3\\lib\\site-packages\\matplotlib\\mpl-data\\stylelib\\_classic_test.mplstyle: \n",
      "The animation.avconv_args rcparam was deprecated in Matplotlib 3.3 and will be removed two minor releases later.\n"
     ]
    }
   ],
   "source": [
    "import pandas as pd\n",
    "import numpy as np\n",
    "from matplotlib import pyplot as plt\n",
    "import seaborn as sns\n",
    "\n",
    "import pinyin"
   ]
  },
  {
   "cell_type": "code",
   "execution_count": null,
   "metadata": {},
   "outputs": [],
   "source": []
  },
  {
   "cell_type": "code",
   "execution_count": 2,
   "metadata": {},
   "outputs": [],
   "source": [
    "# define the year when the yearbook data were digitized\n",
    "year = list(range(2000,2009)) + list(range(2013,2019))\n",
    "\n",
    "\n",
    "# read the yearbook data as df\n",
    "yearbook_dfs = [] \n",
    "\n",
    "for t in year:\n",
    "    \n",
    "    # read the excel file\n",
    "    df = pd.read_excel(f'./02_Digitized_data/河南_{t}.xlsx',header=[0,1])\n",
    "    df.set_index([('Unnamed: 0_level_0','地区')],inplace = True)\n",
    "    \n",
    "    # reshape the multileve df to single index df\n",
    "    df = pd.DataFrame(df.T.stack()).reset_index()\n",
    "    \n",
    "    # add the year to df, and adjust the column order\n",
    "    df['Year'] = t\n",
    "    df.columns = ['Crop','Metrics','Region','Value','Year']\n",
    "    df = df[['Year','Region','Crop','Metrics','Value']]\n",
    "    df['Value'].astype('float')\n",
    "    df['Region'].astype('string')\n",
    "    \n",
    "    # add df to the list\n",
    "    yearbook_dfs.append(df)"
   ]
  },
  {
   "cell_type": "code",
   "execution_count": null,
   "metadata": {},
   "outputs": [],
   "source": []
  },
  {
   "cell_type": "code",
   "execution_count": 3,
   "metadata": {},
   "outputs": [],
   "source": [
    "# merge all df into one df\n",
    "yearbook_df = pd.concat(yearbook_dfs,0)"
   ]
  },
  {
   "cell_type": "code",
   "execution_count": null,
   "metadata": {},
   "outputs": [],
   "source": []
  },
  {
   "cell_type": "code",
   "execution_count": 4,
   "metadata": {},
   "outputs": [],
   "source": [
    "# convert Chinese characters into English\n",
    "yearbook_df['Region_en'] = yearbook_df['Region'].apply(lambda x:pinyin.get(x,format='strip') )\n",
    "yearbook_df.replace('总产量(吨）', 'Yield (t)',inplace=True)\n",
    "yearbook_df.replace('总产量 (吨）', 'Yield (t)',inplace=True)\n",
    "yearbook_df.replace('总产量（吨）', 'Yield (t)',inplace=True)\n",
    "yearbook_df.replace('每公顷产量 (公斤）', 'Unit yield (Kg/ha)',inplace=True)\n",
    "yearbook_df.replace('每公顷产量(公斤)', 'Unit yield (Kg/ha)',inplace=True)\n",
    "yearbook_df.replace('播种面积(千公顷）', 'Sown area (1000 ha)',inplace=True)\n",
    "\n",
    "yearbook_df.replace('小麦', 'Wheat',inplace=True)\n",
    "yearbook_df.replace('玉米', 'Corn',inplace=True)\n",
    "\n",
    "yearbook_df = yearbook_df[['Year', 'Region','Region_en', 'Crop', 'Metrics', 'Value']]\n",
    "yearbook_df.to_csv('./02_Digitized_data/Yearbook_all.csv',index=False,encoding='utf_8_sig')"
   ]
  },
  {
   "cell_type": "code",
   "execution_count": null,
   "metadata": {},
   "outputs": [],
   "source": []
  },
  {
   "cell_type": "code",
   "execution_count": 5,
   "metadata": {},
   "outputs": [
    {
     "data": {
      "text/html": [
       "<div>\n",
       "<style scoped>\n",
       "    .dataframe tbody tr th:only-of-type {\n",
       "        vertical-align: middle;\n",
       "    }\n",
       "\n",
       "    .dataframe tbody tr th {\n",
       "        vertical-align: top;\n",
       "    }\n",
       "\n",
       "    .dataframe thead th {\n",
       "        text-align: right;\n",
       "    }\n",
       "</style>\n",
       "<table border=\"1\" class=\"dataframe\">\n",
       "  <thead>\n",
       "    <tr style=\"text-align: right;\">\n",
       "      <th></th>\n",
       "      <th>Year</th>\n",
       "      <th>Region</th>\n",
       "      <th>Region_en</th>\n",
       "      <th>Crop</th>\n",
       "      <th>Metrics</th>\n",
       "      <th>Value</th>\n",
       "    </tr>\n",
       "  </thead>\n",
       "  <tbody>\n",
       "    <tr>\n",
       "      <th>833</th>\n",
       "      <td>2003</td>\n",
       "      <td>沈邱县</td>\n",
       "      <td>shenqiuxian</td>\n",
       "      <td>Corn</td>\n",
       "      <td>Unit yield (Kg/ha)</td>\n",
       "      <td>468.000000</td>\n",
       "    </tr>\n",
       "    <tr>\n",
       "      <th>832</th>\n",
       "      <td>2001</td>\n",
       "      <td>潢川县</td>\n",
       "      <td>huangchuanxian</td>\n",
       "      <td>Corn</td>\n",
       "      <td>Unit yield (Kg/ha)</td>\n",
       "      <td>611.000000</td>\n",
       "    </tr>\n",
       "    <tr>\n",
       "      <th>386</th>\n",
       "      <td>2006</td>\n",
       "      <td>长垣县</td>\n",
       "      <td>changyuanxian</td>\n",
       "      <td>Wheat</td>\n",
       "      <td>Unit yield (Kg/ha)</td>\n",
       "      <td>641.277445</td>\n",
       "    </tr>\n",
       "    <tr>\n",
       "      <th>547</th>\n",
       "      <td>2005</td>\n",
       "      <td>开封县</td>\n",
       "      <td>kaifengxian</td>\n",
       "      <td>Corn</td>\n",
       "      <td>Unit yield (Kg/ha)</td>\n",
       "      <td>654.001007</td>\n",
       "    </tr>\n",
       "    <tr>\n",
       "      <th>849</th>\n",
       "      <td>2001</td>\n",
       "      <td>正阳县</td>\n",
       "      <td>zhengyangxian</td>\n",
       "      <td>Corn</td>\n",
       "      <td>Unit yield (Kg/ha)</td>\n",
       "      <td>671.000000</td>\n",
       "    </tr>\n",
       "    <tr>\n",
       "      <th>...</th>\n",
       "      <td>...</td>\n",
       "      <td>...</td>\n",
       "      <td>...</td>\n",
       "      <td>...</td>\n",
       "      <td>...</td>\n",
       "      <td>...</td>\n",
       "    </tr>\n",
       "    <tr>\n",
       "      <th>556</th>\n",
       "      <td>2018</td>\n",
       "      <td>新乡县</td>\n",
       "      <td>xinxiangxian</td>\n",
       "      <td>Corn</td>\n",
       "      <td>Unit yield (Kg/ha)</td>\n",
       "      <td>8761.061947</td>\n",
       "    </tr>\n",
       "    <tr>\n",
       "      <th>780</th>\n",
       "      <td>2000</td>\n",
       "      <td>武陟县</td>\n",
       "      <td>wuzhixian</td>\n",
       "      <td>Corn</td>\n",
       "      <td>Unit yield (Kg/ha)</td>\n",
       "      <td>8891.000000</td>\n",
       "    </tr>\n",
       "    <tr>\n",
       "      <th>779</th>\n",
       "      <td>2000</td>\n",
       "      <td>博爱县</td>\n",
       "      <td>boaixian</td>\n",
       "      <td>Corn</td>\n",
       "      <td>Unit yield (Kg/ha)</td>\n",
       "      <td>8943.000000</td>\n",
       "    </tr>\n",
       "    <tr>\n",
       "      <th>777</th>\n",
       "      <td>2001</td>\n",
       "      <td>博爱县</td>\n",
       "      <td>boaixian</td>\n",
       "      <td>Corn</td>\n",
       "      <td>Unit yield (Kg/ha)</td>\n",
       "      <td>8982.000000</td>\n",
       "    </tr>\n",
       "    <tr>\n",
       "      <th>604</th>\n",
       "      <td>2018</td>\n",
       "      <td>新县</td>\n",
       "      <td>xinxian</td>\n",
       "      <td>Corn</td>\n",
       "      <td>Unit yield (Kg/ha)</td>\n",
       "      <td>10000.000000</td>\n",
       "    </tr>\n",
       "  </tbody>\n",
       "</table>\n",
       "<p>3848 rows × 6 columns</p>\n",
       "</div>"
      ],
      "text/plain": [
       "     Year Region       Region_en   Crop             Metrics         Value\n",
       "833  2003    沈邱县     shenqiuxian   Corn  Unit yield (Kg/ha)    468.000000\n",
       "832  2001    潢川县  huangchuanxian   Corn  Unit yield (Kg/ha)    611.000000\n",
       "386  2006    长垣县   changyuanxian  Wheat  Unit yield (Kg/ha)    641.277445\n",
       "547  2005    开封县     kaifengxian   Corn  Unit yield (Kg/ha)    654.001007\n",
       "849  2001    正阳县   zhengyangxian   Corn  Unit yield (Kg/ha)    671.000000\n",
       "..    ...    ...             ...    ...                 ...           ...\n",
       "556  2018    新乡县    xinxiangxian   Corn  Unit yield (Kg/ha)   8761.061947\n",
       "780  2000    武陟县       wuzhixian   Corn  Unit yield (Kg/ha)   8891.000000\n",
       "779  2000    博爱县        boaixian   Corn  Unit yield (Kg/ha)   8943.000000\n",
       "777  2001    博爱县        boaixian   Corn  Unit yield (Kg/ha)   8982.000000\n",
       "604  2018     新县         xinxian   Corn  Unit yield (Kg/ha)  10000.000000\n",
       "\n",
       "[3848 rows x 6 columns]"
      ]
     },
     "execution_count": 5,
     "metadata": {},
     "output_type": "execute_result"
    }
   ],
   "source": [
    "yearbook_df[yearbook_df['Metrics']=='Unit yield (Kg/ha)'].sort_values(['Value'])"
   ]
  },
  {
   "cell_type": "code",
   "execution_count": null,
   "metadata": {},
   "outputs": [],
   "source": []
  },
  {
   "cell_type": "markdown",
   "metadata": {},
   "source": [
    "##### make plots to explore the data"
   ]
  },
  {
   "cell_type": "code",
   "execution_count": null,
   "metadata": {},
   "outputs": [],
   "source": []
  },
  {
   "cell_type": "code",
   "execution_count": 6,
   "metadata": {},
   "outputs": [
    {
     "data": {
      "text/plain": [
       "<AxesSubplot:xlabel='Year', ylabel='Value'>"
      ]
     },
     "execution_count": 6,
     "metadata": {},
     "output_type": "execute_result"
    },
    {
     "data": {
      "image/png": "[encoded data removed]",
      "text/plain": [
       "<Figure size 432x288 with 1 Axes>"
      ]
     },
     "metadata": {
      "needs_background": "light"
     },
     "output_type": "display_data"
    }
   ],
   "source": [
    "# Sown area change\n",
    "sown_area     = yearbook_df[yearbook_df['Metrics'] == 'Sown area (1000 ha)']\n",
    "sown_area_sum = pd.DataFrame(sown_area.groupby(['Year','Crop'])['Value'].sum())\n",
    "sown_area_sum.reset_index(inplace=True)\n",
    "\n",
    "sns.lineplot(data=sown_area_sum,x='Year',y='Value',hue='Crop')"
   ]
  },
  {
   "cell_type": "code",
   "execution_count": null,
   "metadata": {},
   "outputs": [],
   "source": []
  },
  {
   "cell_type": "code",
   "execution_count": 7,
   "metadata": {},
   "outputs": [
    {
     "data": {
      "text/plain": [
       "<AxesSubplot:xlabel='Year', ylabel='Value'>"
      ]
     },
     "execution_count": 7,
     "metadata": {},
     "output_type": "execute_result"
    },
    {
     "data": {
      "image/png": "[encoded data removed]",
      "text/plain": [
       "<Figure size 432x288 with 1 Axes>"
      ]
     },
     "metadata": {
      "needs_background": "light"
     },
     "output_type": "display_data"
    }
   ],
   "source": [
    "# totall yield change\n",
    "total_yield      = yearbook_df[yearbook_df['Metrics'] == 'Unit yield (Kg/ha)']\n",
    "total_yield_sum  = pd.DataFrame(total_yield.groupby(['Year','Crop'])['Value'].sum())\n",
    "total_yield_sum.reset_index(inplace=True)\n",
    "\n",
    "sns.lineplot(data=total_yield_sum,x='Year',y='Value',hue='Crop')"
   ]
  },
  {
   "cell_type": "code",
   "execution_count": null,
   "metadata": {},
   "outputs": [],
   "source": []
  },
  {
   "cell_type": "code",
   "execution_count": 8,
   "metadata": {},
   "outputs": [
    {
     "data": {
      "text/plain": [
       "<AxesSubplot:xlabel='Year', ylabel='Unit_yield'>"
      ]
     },
     "execution_count": 8,
     "metadata": {},
     "output_type": "execute_result"
    },
    {
     "data": {
      "image/png": "[encoded data removed]",
      "text/plain": [
       "<Figure size 432x288 with 1 Axes>"
      ]
     },
     "metadata": {
      "needs_background": "light"
     },
     "output_type": "display_data"
    }
   ],
   "source": [
    "# unit yield change\n",
    "unit_yield = total_yield_sum[['Year','Crop']]\n",
    "unit_yield['Unit_yield'] = total_yield_sum['Value']/sown_area_sum['Value']\n",
    "\n",
    "sns.lineplot(data=unit_yield,x='Year',y='Unit_yield',hue='Crop')"
   ]
  },
  {
   "cell_type": "code",
   "execution_count": null,
   "metadata": {},
   "outputs": [],
   "source": []
  },
  {
   "cell_type": "code",
   "execution_count": null,
   "metadata": {},
   "outputs": [],
   "source": []
  },
  {
   "cell_type": "code",
   "execution_count": null,
   "metadata": {},
   "outputs": [],
   "source": []
  },
  {
   "cell_type": "code",
   "execution_count": null,
   "metadata": {},
   "outputs": [],
   "source": []
  },
  {
   "cell_type": "code",
   "execution_count": null,
   "metadata": {},
   "outputs": [],
   "source": []
  },
  {
   "cell_type": "code",
   "execution_count": null,
   "metadata": {},
   "outputs": [],
   "source": []
  },
  {
   "cell_type": "code",
   "execution_count": null,
   "metadata": {},
   "outputs": [],
   "source": []
  },
  {
   "cell_type": "code",
   "execution_count": null,
   "metadata": {},
   "outputs": [],
   "source": []
  },
  {
   "cell_type": "code",
   "execution_count": null,
   "metadata": {},
   "outputs": [],
   "source": []
  },
  {
   "cell_type": "code",
   "execution_count": null,
   "metadata": {},
   "outputs": [],
   "source": []
  },
  {
   "cell_type": "code",
   "execution_count": null,
   "metadata": {},
   "outputs": [],
   "source": []
  },
  {
   "cell_type": "code",
   "execution_count": null,
   "metadata": {},
   "outputs": [],
   "source": []
  }
 ],
 "metadata": {
  "kernelspec": {
   "display_name": "Python 3",
   "language": "python",
   "name": "python3"
  },
  "language_info": {
   "codemirror_mode": {
    "name": "ipython",
    "version": 3
   },
   "file_extension": ".py",
   "mimetype": "text/x-python",
   "name": "python",
   "nbconvert_exporter": "python",
   "pygments_lexer": "ipython3",
   "version": "3.7.3"
  }
 },
 "nbformat": 4,
 "nbformat_minor": 2
}
