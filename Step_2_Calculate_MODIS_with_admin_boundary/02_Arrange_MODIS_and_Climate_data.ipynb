{
 "cells": [
  {
   "cell_type": "code",
   "execution_count": 1,
   "metadata": {},
   "outputs": [
    {
     "name": "stderr",
     "output_type": "stream",
     "text": [
      "In C:\\Users\\wangj\\Anaconda3\\envs\\ee_py3\\lib\\site-packages\\matplotlib\\mpl-data\\stylelib\\_classic_test.mplstyle: \n",
      "The text.latex.preview rcparam was deprecated in Matplotlib 3.3 and will be removed two minor releases later.\n",
      "In C:\\Users\\wangj\\Anaconda3\\envs\\ee_py3\\lib\\site-packages\\matplotlib\\mpl-data\\stylelib\\_classic_test.mplstyle: \n",
      "The mathtext.fallback_to_cm rcparam was deprecated in Matplotlib 3.3 and will be removed two minor releases later.\n",
      "In C:\\Users\\wangj\\Anaconda3\\envs\\ee_py3\\lib\\site-packages\\matplotlib\\mpl-data\\stylelib\\_classic_test.mplstyle: Support for setting the 'mathtext.fallback_to_cm' rcParam is deprecated since 3.3 and will be removed two minor releases later; use 'mathtext.fallback : 'cm' instead.\n",
      "In C:\\Users\\wangj\\Anaconda3\\envs\\ee_py3\\lib\\site-packages\\matplotlib\\mpl-data\\stylelib\\_classic_test.mplstyle: \n",
      "The validate_bool_maybe_none function was deprecated in Matplotlib 3.3 and will be removed two minor releases later.\n",
      "In C:\\Users\\wangj\\Anaconda3\\envs\\ee_py3\\lib\\site-packages\\matplotlib\\mpl-data\\stylelib\\_classic_test.mplstyle: \n",
      "The savefig.jpeg_quality rcparam was deprecated in Matplotlib 3.3 and will be removed two minor releases later.\n",
      "In C:\\Users\\wangj\\Anaconda3\\envs\\ee_py3\\lib\\site-packages\\matplotlib\\mpl-data\\stylelib\\_classic_test.mplstyle: \n",
      "The keymap.all_axes rcparam was deprecated in Matplotlib 3.3 and will be removed two minor releases later.\n",
      "In C:\\Users\\wangj\\Anaconda3\\envs\\ee_py3\\lib\\site-packages\\matplotlib\\mpl-data\\stylelib\\_classic_test.mplstyle: \n",
      "The animation.avconv_path rcparam was deprecated in Matplotlib 3.3 and will be removed two minor releases later.\n",
      "In C:\\Users\\wangj\\Anaconda3\\envs\\ee_py3\\lib\\site-packages\\matplotlib\\mpl-data\\stylelib\\_classic_test.mplstyle: \n",
      "The animation.avconv_args rcparam was deprecated in Matplotlib 3.3 and will be removed two minor releases later.\n"
     ]
    }
   ],
   "source": [
    "import pandas as pd\n",
    "import numpy as np \n",
    "import matplotlib.pyplot as plt\n",
    "import seaborn as sns\n",
    "from datetime import datetime\n",
    "\n",
    "import glob"
   ]
  },
  {
   "cell_type": "code",
   "execution_count": null,
   "metadata": {},
   "outputs": [],
   "source": []
  },
  {
   "cell_type": "code",
   "execution_count": 2,
   "metadata": {},
   "outputs": [],
   "source": [
    "# define the years \n",
    "Year = list(range(2001,2009)) + list(range(2013,2019))"
   ]
  },
  {
   "cell_type": "code",
   "execution_count": null,
   "metadata": {},
   "outputs": [],
   "source": []
  },
  {
   "cell_type": "markdown",
   "metadata": {},
   "source": [
    "##### Read Climate and NDVI data"
   ]
  },
  {
   "cell_type": "code",
   "execution_count": null,
   "metadata": {},
   "outputs": [],
   "source": []
  },
  {
   "cell_type": "code",
   "execution_count": 3,
   "metadata": {},
   "outputs": [],
   "source": [
    "# read Climate csv\n",
    "climate_csv = glob.glob('./Data/without_cloud_mask/Climate_*.csv')\n",
    "climate_df_list = []\n",
    "\n",
    "for f in climate_csv:\n",
    "       \n",
    "    # reand the df and parse date\n",
    "    df = pd.read_csv(f,parse_dates=['Date'])\n",
    "    climate_df_list.append(df)\n",
    "\n",
    "# concat all climate_df into one df\n",
    "climate_df = pd.concat(climate_df_list,0)\n",
    "climate_df.reset_index(inplace=True,drop=True)"
   ]
  },
  {
   "cell_type": "code",
   "execution_count": null,
   "metadata": {},
   "outputs": [],
   "source": []
  },
  {
   "cell_type": "code",
   "execution_count": null,
   "metadata": {},
   "outputs": [],
   "source": []
  },
  {
   "cell_type": "code",
   "execution_count": 4,
   "metadata": {},
   "outputs": [],
   "source": [
    "# read NDVI_withou_cloud_mask csv\n",
    "NDVI_csv = glob.glob('./Data/without_cloud_mask/MODIS_NDVI_*')\n",
    "NDVI_df_list = []\n",
    "\n",
    "for f in NDVI_csv:\n",
    "       \n",
    "    # reand the df and parse date\n",
    "    df = pd.read_csv(f,parse_dates=['YMD'])\n",
    "    # arrange the df\n",
    "    df['Date'] = df['YMD']\n",
    "    df = df.drop('YMD',1)\n",
    "    df = df[['Date','NAME', 'NDVI' ]]\n",
    "    \n",
    "    NDVI_df_list.append(df)\n",
    "\n",
    "# concat all climate_df into one df\n",
    "NDVI_df = pd.concat(NDVI_df_list,0)\n",
    "NDVI_df.reset_index(inplace=True,drop=True)\n",
    "\n",
    "# filter the data in target years\n",
    "NDVI_df = NDVI_df[NDVI_df['Date'].dt.year.isin(Year)]"
   ]
  },
  {
   "cell_type": "code",
   "execution_count": null,
   "metadata": {},
   "outputs": [],
   "source": []
  },
  {
   "cell_type": "code",
   "execution_count": null,
   "metadata": {},
   "outputs": [],
   "source": []
  },
  {
   "cell_type": "code",
   "execution_count": 5,
   "metadata": {},
   "outputs": [],
   "source": [
    "# read NDVI_cloud_masked csv\n",
    "\n",
    "NDVI_masked_csv = glob.glob('./Data/with_cloud_mask/*.csv')\n",
    "NDVI_masked_df_list = []\n",
    "\n",
    "for f in NDVI_masked_csv:\n",
    "       \n",
    "    # reand the df and parse date\n",
    "    df = pd.read_csv(f,parse_dates=['YMD'])\n",
    "    # arrange the df\n",
    "    df['Date'] = df['YMD']\n",
    "    df = df.drop('YMD',1)\n",
    "    df = df[['Date','NAME', 'NDVI' ]]    \n",
    "    \n",
    "    # concat all df to one\n",
    "    NDVI_masked_df_list.append(df)\n",
    "\n",
    "# concat all climate_df into one df\n",
    "NDVI_masked_df = pd.concat(NDVI_masked_df_list,0)\n",
    "NDVI_masked_df.reset_index(inplace=True,drop=True)\n",
    "\n",
    "# filter the data in target years\n",
    "NDVI_masked_df = NDVI_masked_df[NDVI_masked_df['Date'].dt.year.isin(Year)]"
   ]
  },
  {
   "cell_type": "code",
   "execution_count": null,
   "metadata": {},
   "outputs": [],
   "source": []
  },
  {
   "cell_type": "code",
   "execution_count": null,
   "metadata": {},
   "outputs": [],
   "source": []
  },
  {
   "cell_type": "code",
   "execution_count": null,
   "metadata": {},
   "outputs": [],
   "source": []
  },
  {
   "cell_type": "markdown",
   "metadata": {},
   "source": [
    "##### Concate NDVI_df with Climate_df"
   ]
  },
  {
   "cell_type": "code",
   "execution_count": null,
   "metadata": {},
   "outputs": [],
   "source": []
  },
  {
   "cell_type": "code",
   "execution_count": 6,
   "metadata": {},
   "outputs": [],
   "source": [
    "# merge Climate_df with NDVI_mask_df, useing climate as main key because it has all recoreds for each day in the target years\n",
    "data = pd.merge(climate_df,NDVI_masked_df,left_on=['Date','NAME'],right_on=['Date','NAME'],how = 'left')\n",
    "\n",
    "# intopolate the null value of NDVI,\n",
    "data = data.sort_values(['Date','NAME'])\n",
    "data = data.interpolate(limit_direction='both')\n",
    "data = data.sort_values(['NAME','Date'])"
   ]
  },
  {
   "cell_type": "code",
   "execution_count": 7,
   "metadata": {},
   "outputs": [
    {
     "data": {
      "text/html": [
       "<div>\n",
       "<style scoped>\n",
       "    .dataframe tbody tr th:only-of-type {\n",
       "        vertical-align: middle;\n",
       "    }\n",
       "\n",
       "    .dataframe tbody tr th {\n",
       "        vertical-align: top;\n",
       "    }\n",
       "\n",
       "    .dataframe thead th {\n",
       "        text-align: right;\n",
       "    }\n",
       "</style>\n",
       "<table border=\"1\" class=\"dataframe\">\n",
       "  <thead>\n",
       "    <tr style=\"text-align: right;\">\n",
       "      <th></th>\n",
       "      <th>Date</th>\n",
       "      <th>NAME</th>\n",
       "      <th>Area</th>\n",
       "      <th>Albedo_inst</th>\n",
       "      <th>AvgSurfT_inst</th>\n",
       "      <th>CanopInt_inst</th>\n",
       "      <th>ECanop_tavg</th>\n",
       "      <th>ESoil_tavg</th>\n",
       "      <th>Evap_tavg</th>\n",
       "      <th>LWdown_f_tavg</th>\n",
       "      <th>...</th>\n",
       "      <th>SoilMoi40_100cm_inst</th>\n",
       "      <th>SoilTMP0_10cm_inst</th>\n",
       "      <th>SoilTMP100_200cm_inst</th>\n",
       "      <th>SoilTMP10_40cm_inst</th>\n",
       "      <th>SoilTMP40_100cm_inst</th>\n",
       "      <th>Swnet_tavg</th>\n",
       "      <th>Tair_f_inst</th>\n",
       "      <th>Tveg_tavg</th>\n",
       "      <th>Wind_f_inst</th>\n",
       "      <th>NDVI</th>\n",
       "    </tr>\n",
       "  </thead>\n",
       "  <tbody>\n",
       "    <tr>\n",
       "      <th>92</th>\n",
       "      <td>2001-01-01</td>\n",
       "      <td>上蔡县</td>\n",
       "      <td>1507.150</td>\n",
       "      <td>18.423127</td>\n",
       "      <td>278.973359</td>\n",
       "      <td>0.042567</td>\n",
       "      <td>4.106985</td>\n",
       "      <td>17.523134</td>\n",
       "      <td>1.219356e-05</td>\n",
       "      <td>278.508345</td>\n",
       "      <td>...</td>\n",
       "      <td>160.006416</td>\n",
       "      <td>279.448185</td>\n",
       "      <td>283.110664</td>\n",
       "      <td>279.922253</td>\n",
       "      <td>281.211210</td>\n",
       "      <td>71.784304</td>\n",
       "      <td>280.512647</td>\n",
       "      <td>8.447369</td>\n",
       "      <td>3.821237</td>\n",
       "      <td>0.387425</td>\n",
       "    </tr>\n",
       "    <tr>\n",
       "      <th>247</th>\n",
       "      <td>2001-01-02</td>\n",
       "      <td>上蔡县</td>\n",
       "      <td>1507.150</td>\n",
       "      <td>18.577235</td>\n",
       "      <td>278.230504</td>\n",
       "      <td>0.020431</td>\n",
       "      <td>2.967367</td>\n",
       "      <td>10.439595</td>\n",
       "      <td>7.885690e-06</td>\n",
       "      <td>277.982970</td>\n",
       "      <td>...</td>\n",
       "      <td>159.590881</td>\n",
       "      <td>278.373212</td>\n",
       "      <td>283.031702</td>\n",
       "      <td>279.850869</td>\n",
       "      <td>281.178303</td>\n",
       "      <td>80.134545</td>\n",
       "      <td>279.461531</td>\n",
       "      <td>5.747781</td>\n",
       "      <td>1.777187</td>\n",
       "      <td>0.387425</td>\n",
       "    </tr>\n",
       "    <tr>\n",
       "      <th>402</th>\n",
       "      <td>2001-01-03</td>\n",
       "      <td>上蔡县</td>\n",
       "      <td>1507.150</td>\n",
       "      <td>18.459500</td>\n",
       "      <td>275.109867</td>\n",
       "      <td>0.000000</td>\n",
       "      <td>0.003391</td>\n",
       "      <td>21.374002</td>\n",
       "      <td>1.168983e-05</td>\n",
       "      <td>238.130987</td>\n",
       "      <td>...</td>\n",
       "      <td>159.230357</td>\n",
       "      <td>276.877828</td>\n",
       "      <td>282.953398</td>\n",
       "      <td>279.476251</td>\n",
       "      <td>281.104734</td>\n",
       "      <td>97.947352</td>\n",
       "      <td>275.602725</td>\n",
       "      <td>6.810954</td>\n",
       "      <td>4.485382</td>\n",
       "      <td>0.120019</td>\n",
       "    </tr>\n",
       "    <tr>\n",
       "      <th>557</th>\n",
       "      <td>2001-01-04</td>\n",
       "      <td>上蔡县</td>\n",
       "      <td>1507.150</td>\n",
       "      <td>18.389800</td>\n",
       "      <td>275.693528</td>\n",
       "      <td>0.000000</td>\n",
       "      <td>0.001083</td>\n",
       "      <td>9.070885</td>\n",
       "      <td>5.245227e-06</td>\n",
       "      <td>258.268999</td>\n",
       "      <td>...</td>\n",
       "      <td>158.746793</td>\n",
       "      <td>276.083430</td>\n",
       "      <td>282.874753</td>\n",
       "      <td>278.914702</td>\n",
       "      <td>280.952225</td>\n",
       "      <td>92.684368</td>\n",
       "      <td>276.159525</td>\n",
       "      <td>4.729566</td>\n",
       "      <td>2.708520</td>\n",
       "      <td>0.105565</td>\n",
       "    </tr>\n",
       "    <tr>\n",
       "      <th>712</th>\n",
       "      <td>2001-01-05</td>\n",
       "      <td>上蔡县</td>\n",
       "      <td>1507.150</td>\n",
       "      <td>18.429593</td>\n",
       "      <td>278.256112</td>\n",
       "      <td>0.000608</td>\n",
       "      <td>0.196932</td>\n",
       "      <td>12.183381</td>\n",
       "      <td>7.251959e-06</td>\n",
       "      <td>307.032400</td>\n",
       "      <td>...</td>\n",
       "      <td>158.385845</td>\n",
       "      <td>277.783973</td>\n",
       "      <td>282.790518</td>\n",
       "      <td>278.777222</td>\n",
       "      <td>280.761177</td>\n",
       "      <td>77.712049</td>\n",
       "      <td>277.894870</td>\n",
       "      <td>5.142580</td>\n",
       "      <td>4.319664</td>\n",
       "      <td>0.183901</td>\n",
       "    </tr>\n",
       "    <tr>\n",
       "      <th>...</th>\n",
       "      <td>...</td>\n",
       "      <td>...</td>\n",
       "      <td>...</td>\n",
       "      <td>...</td>\n",
       "      <td>...</td>\n",
       "      <td>...</td>\n",
       "      <td>...</td>\n",
       "      <td>...</td>\n",
       "      <td>...</td>\n",
       "      <td>...</td>\n",
       "      <td>...</td>\n",
       "      <td>...</td>\n",
       "      <td>...</td>\n",
       "      <td>...</td>\n",
       "      <td>...</td>\n",
       "      <td>...</td>\n",
       "      <td>...</td>\n",
       "      <td>...</td>\n",
       "      <td>...</td>\n",
       "      <td>...</td>\n",
       "      <td>...</td>\n",
       "    </tr>\n",
       "    <tr>\n",
       "      <th>791790</th>\n",
       "      <td>2018-12-27</td>\n",
       "      <td>龙安区</td>\n",
       "      <td>232.077</td>\n",
       "      <td>15.766613</td>\n",
       "      <td>267.700003</td>\n",
       "      <td>0.000000</td>\n",
       "      <td>0.000000</td>\n",
       "      <td>2.064718</td>\n",
       "      <td>9.371928e-07</td>\n",
       "      <td>249.620613</td>\n",
       "      <td>...</td>\n",
       "      <td>85.997904</td>\n",
       "      <td>270.002179</td>\n",
       "      <td>282.433980</td>\n",
       "      <td>275.236445</td>\n",
       "      <td>278.563146</td>\n",
       "      <td>39.608024</td>\n",
       "      <td>266.943641</td>\n",
       "      <td>0.000000</td>\n",
       "      <td>4.348915</td>\n",
       "      <td>0.404313</td>\n",
       "    </tr>\n",
       "    <tr>\n",
       "      <th>791945</th>\n",
       "      <td>2018-12-28</td>\n",
       "      <td>龙安区</td>\n",
       "      <td>232.077</td>\n",
       "      <td>15.734597</td>\n",
       "      <td>264.271341</td>\n",
       "      <td>0.000000</td>\n",
       "      <td>0.000000</td>\n",
       "      <td>1.121492</td>\n",
       "      <td>5.239567e-07</td>\n",
       "      <td>187.918979</td>\n",
       "      <td>...</td>\n",
       "      <td>85.940634</td>\n",
       "      <td>266.910991</td>\n",
       "      <td>282.307847</td>\n",
       "      <td>274.158557</td>\n",
       "      <td>278.230199</td>\n",
       "      <td>86.680322</td>\n",
       "      <td>264.644122</td>\n",
       "      <td>0.000000</td>\n",
       "      <td>1.749502</td>\n",
       "      <td>0.288876</td>\n",
       "    </tr>\n",
       "    <tr>\n",
       "      <th>792100</th>\n",
       "      <td>2018-12-29</td>\n",
       "      <td>龙安区</td>\n",
       "      <td>232.077</td>\n",
       "      <td>15.659033</td>\n",
       "      <td>265.426802</td>\n",
       "      <td>0.000000</td>\n",
       "      <td>0.000000</td>\n",
       "      <td>1.176452</td>\n",
       "      <td>5.433606e-07</td>\n",
       "      <td>188.297667</td>\n",
       "      <td>...</td>\n",
       "      <td>85.877587</td>\n",
       "      <td>267.098642</td>\n",
       "      <td>282.176494</td>\n",
       "      <td>273.351711</td>\n",
       "      <td>277.901418</td>\n",
       "      <td>84.845362</td>\n",
       "      <td>267.456123</td>\n",
       "      <td>0.000000</td>\n",
       "      <td>1.763611</td>\n",
       "      <td>0.289547</td>\n",
       "    </tr>\n",
       "    <tr>\n",
       "      <th>792255</th>\n",
       "      <td>2018-12-30</td>\n",
       "      <td>龙安区</td>\n",
       "      <td>232.077</td>\n",
       "      <td>15.587096</td>\n",
       "      <td>267.276062</td>\n",
       "      <td>0.000000</td>\n",
       "      <td>0.000000</td>\n",
       "      <td>1.202621</td>\n",
       "      <td>5.556114e-07</td>\n",
       "      <td>210.728692</td>\n",
       "      <td>...</td>\n",
       "      <td>85.816555</td>\n",
       "      <td>267.941068</td>\n",
       "      <td>282.031512</td>\n",
       "      <td>272.496452</td>\n",
       "      <td>277.488186</td>\n",
       "      <td>89.409919</td>\n",
       "      <td>267.970732</td>\n",
       "      <td>0.000000</td>\n",
       "      <td>1.369998</td>\n",
       "      <td>0.281210</td>\n",
       "    </tr>\n",
       "    <tr>\n",
       "      <th>792410</th>\n",
       "      <td>2018-12-31</td>\n",
       "      <td>龙安区</td>\n",
       "      <td>232.077</td>\n",
       "      <td>15.520967</td>\n",
       "      <td>266.944872</td>\n",
       "      <td>0.000000</td>\n",
       "      <td>0.000000</td>\n",
       "      <td>1.181129</td>\n",
       "      <td>5.291045e-07</td>\n",
       "      <td>216.513666</td>\n",
       "      <td>...</td>\n",
       "      <td>85.757806</td>\n",
       "      <td>268.300395</td>\n",
       "      <td>281.874456</td>\n",
       "      <td>271.932384</td>\n",
       "      <td>277.053578</td>\n",
       "      <td>70.992460</td>\n",
       "      <td>268.400191</td>\n",
       "      <td>0.000000</td>\n",
       "      <td>1.401521</td>\n",
       "      <td>0.184245</td>\n",
       "    </tr>\n",
       "  </tbody>\n",
       "</table>\n",
       "<p>792515 rows × 40 columns</p>\n",
       "</div>"
      ],
      "text/plain": [
       "             Date NAME      Area  Albedo_inst  AvgSurfT_inst  CanopInt_inst  \\\n",
       "92     2001-01-01  上蔡县  1507.150    18.423127     278.973359       0.042567   \n",
       "247    2001-01-02  上蔡县  1507.150    18.577235     278.230504       0.020431   \n",
       "402    2001-01-03  上蔡县  1507.150    18.459500     275.109867       0.000000   \n",
       "557    2001-01-04  上蔡县  1507.150    18.389800     275.693528       0.000000   \n",
       "712    2001-01-05  上蔡县  1507.150    18.429593     278.256112       0.000608   \n",
       "...           ...  ...       ...          ...            ...            ...   \n",
       "791790 2018-12-27  龙安区   232.077    15.766613     267.700003       0.000000   \n",
       "791945 2018-12-28  龙安区   232.077    15.734597     264.271341       0.000000   \n",
       "792100 2018-12-29  龙安区   232.077    15.659033     265.426802       0.000000   \n",
       "792255 2018-12-30  龙安区   232.077    15.587096     267.276062       0.000000   \n",
       "792410 2018-12-31  龙安区   232.077    15.520967     266.944872       0.000000   \n",
       "\n",
       "        ECanop_tavg  ESoil_tavg     Evap_tavg  LWdown_f_tavg  ...  \\\n",
       "92         4.106985   17.523134  1.219356e-05     278.508345  ...   \n",
       "247        2.967367   10.439595  7.885690e-06     277.982970  ...   \n",
       "402        0.003391   21.374002  1.168983e-05     238.130987  ...   \n",
       "557        0.001083    9.070885  5.245227e-06     258.268999  ...   \n",
       "712        0.196932   12.183381  7.251959e-06     307.032400  ...   \n",
       "...             ...         ...           ...            ...  ...   \n",
       "791790     0.000000    2.064718  9.371928e-07     249.620613  ...   \n",
       "791945     0.000000    1.121492  5.239567e-07     187.918979  ...   \n",
       "792100     0.000000    1.176452  5.433606e-07     188.297667  ...   \n",
       "792255     0.000000    1.202621  5.556114e-07     210.728692  ...   \n",
       "792410     0.000000    1.181129  5.291045e-07     216.513666  ...   \n",
       "\n",
       "        SoilMoi40_100cm_inst  SoilTMP0_10cm_inst  SoilTMP100_200cm_inst  \\\n",
       "92                160.006416          279.448185             283.110664   \n",
       "247               159.590881          278.373212             283.031702   \n",
       "402               159.230357          276.877828             282.953398   \n",
       "557               158.746793          276.083430             282.874753   \n",
       "712               158.385845          277.783973             282.790518   \n",
       "...                      ...                 ...                    ...   \n",
       "791790             85.997904          270.002179             282.433980   \n",
       "791945             85.940634          266.910991             282.307847   \n",
       "792100             85.877587          267.098642             282.176494   \n",
       "792255             85.816555          267.941068             282.031512   \n",
       "792410             85.757806          268.300395             281.874456   \n",
       "\n",
       "        SoilTMP10_40cm_inst  SoilTMP40_100cm_inst  Swnet_tavg  Tair_f_inst  \\\n",
       "92               279.922253            281.211210   71.784304   280.512647   \n",
       "247              279.850869            281.178303   80.134545   279.461531   \n",
       "402              279.476251            281.104734   97.947352   275.602725   \n",
       "557              278.914702            280.952225   92.684368   276.159525   \n",
       "712              278.777222            280.761177   77.712049   277.894870   \n",
       "...                     ...                   ...         ...          ...   \n",
       "791790           275.236445            278.563146   39.608024   266.943641   \n",
       "791945           274.158557            278.230199   86.680322   264.644122   \n",
       "792100           273.351711            277.901418   84.845362   267.456123   \n",
       "792255           272.496452            277.488186   89.409919   267.970732   \n",
       "792410           271.932384            277.053578   70.992460   268.400191   \n",
       "\n",
       "        Tveg_tavg  Wind_f_inst      NDVI  \n",
       "92       8.447369     3.821237  0.387425  \n",
       "247      5.747781     1.777187  0.387425  \n",
       "402      6.810954     4.485382  0.120019  \n",
       "557      4.729566     2.708520  0.105565  \n",
       "712      5.142580     4.319664  0.183901  \n",
       "...           ...          ...       ...  \n",
       "791790   0.000000     4.348915  0.404313  \n",
       "791945   0.000000     1.749502  0.288876  \n",
       "792100   0.000000     1.763611  0.289547  \n",
       "792255   0.000000     1.369998  0.281210  \n",
       "792410   0.000000     1.401521  0.184245  \n",
       "\n",
       "[792515 rows x 40 columns]"
      ]
     },
     "execution_count": 7,
     "metadata": {},
     "output_type": "execute_result"
    }
   ],
   "source": [
    "data"
   ]
  },
  {
   "cell_type": "code",
   "execution_count": null,
   "metadata": {},
   "outputs": [],
   "source": []
  },
  {
   "cell_type": "code",
   "execution_count": null,
   "metadata": {},
   "outputs": [],
   "source": []
  },
  {
   "cell_type": "markdown",
   "metadata": {},
   "source": [
    "##### Note that masked-NDVI is less affected by noisy than raw-NDVI, so we interpolate the maked-NDVI at each day of a given year"
   ]
  },
  {
   "cell_type": "code",
   "execution_count": 8,
   "metadata": {},
   "outputs": [],
   "source": [
    "# get one county and plot the ndvi\n",
    "df_one_masked_ndvi = data[(data['NAME'] == '博爱县')&(data['Date'].dt.year == 2001)].reset_index()\n",
    "df_one_raw_ndvi   = NDVI_df[(NDVI_masked_df['NAME'] == '博爱县')&(NDVI_masked_df['Date'].dt.year == 2001)].reset_index()"
   ]
  },
  {
   "cell_type": "code",
   "execution_count": null,
   "metadata": {},
   "outputs": [],
   "source": []
  },
  {
   "cell_type": "code",
   "execution_count": 10,
   "metadata": {},
   "outputs": [
    {
     "data": {
      "text/plain": [
       "<AxesSubplot:xlabel='Date', ylabel='NDVI'>"
      ]
     },
     "execution_count": 10,
     "metadata": {},
     "output_type": "execute_result"
    },
    {
     "data": {
      "image/png": "[encoded data removed]",
      "text/plain": [
       "<Figure size 864x576 with 1 Axes>"
      ]
     },
     "metadata": {
      "needs_background": "light"
     },
     "output_type": "display_data"
    }
   ],
   "source": [
    "plt.figure(figsize=(12,8))\n",
    "sns.scatterplot(data=df_one_masked_ndvi,x='Date',y='NDVI',label='masked')\n",
    "sns.scatterplot(data=df_one_raw_ndvi,  x='Date',y='NDVI',label='raw')"
   ]
  },
  {
   "cell_type": "code",
   "execution_count": null,
   "metadata": {},
   "outputs": [],
   "source": []
  },
  {
   "cell_type": "code",
   "execution_count": 11,
   "metadata": {},
   "outputs": [
    {
     "data": {
      "text/plain": [
       "<AxesSubplot:>"
      ]
     },
     "execution_count": 11,
     "metadata": {},
     "output_type": "execute_result"
    },
    {
     "data": {
      "image/png": "[encoded data removed]",
      "text/plain": [
       "<Figure size 864x576 with 1 Axes>"
      ]
     },
     "metadata": {
      "needs_background": "light"
     },
     "output_type": "display_data"
    }
   ],
   "source": [
    "plt.figure(figsize=(12,8))\n",
    "df_msk = df_one_masked_ndvi['NDVI'].rolling(7).sum()/7\n",
    "df_raw = df_one_raw_ndvi['NDVI'].rolling(7).sum()/7\n",
    "\n",
    "df_raw.plot()\n",
    "df_msk.plot()"
   ]
  },
  {
   "cell_type": "code",
   "execution_count": null,
   "metadata": {},
   "outputs": [],
   "source": []
  },
  {
   "cell_type": "code",
   "execution_count": null,
   "metadata": {},
   "outputs": [],
   "source": []
  },
  {
   "cell_type": "markdown",
   "metadata": {},
   "source": [
    "##### Find out the same counties between Remote sensed data and Yearbook data"
   ]
  },
  {
   "cell_type": "code",
   "execution_count": 12,
   "metadata": {},
   "outputs": [],
   "source": [
    "# import year book data\n",
    "yearbook_df = pd.read_csv('../Step_1_Process_Yearbook_Data/02_Digitized_data/Yearbook_all.csv')"
   ]
  },
  {
   "cell_type": "code",
   "execution_count": null,
   "metadata": {},
   "outputs": [],
   "source": []
  },
  {
   "cell_type": "code",
   "execution_count": 13,
   "metadata": {},
   "outputs": [],
   "source": [
    "# use names as key to filter all data\n",
    "modis_names = data['NAME'].unique()\n",
    "yearbook_names = yearbook_df['Region'].unique()\n",
    "\n",
    "# find out the names that can be found in both source\n",
    "intersect_names = list(set(modis_names) & set(yearbook_names))"
   ]
  },
  {
   "cell_type": "code",
   "execution_count": null,
   "metadata": {},
   "outputs": [],
   "source": []
  },
  {
   "cell_type": "code",
   "execution_count": 14,
   "metadata": {},
   "outputs": [],
   "source": [
    "# use the intersect_nams to filter Remote-sensed data and Yearbook data\n",
    "RS_data = data[data['NAME'].isin(intersect_names)]\n",
    "Yb_data = yearbook_df[yearbook_df['Region'].isin(intersect_names)]"
   ]
  },
  {
   "cell_type": "code",
   "execution_count": null,
   "metadata": {},
   "outputs": [],
   "source": []
  },
  {
   "cell_type": "code",
   "execution_count": 15,
   "metadata": {},
   "outputs": [],
   "source": [
    "# loop through each year to filter the Remote-sensed data and Yearbook data based on names\n",
    "\n",
    "RS_data_list = []\n",
    "YB_data_list = []\n",
    "\n",
    "for year in Year:\n",
    "    \n",
    "    # filter the data within this year\n",
    "    rs_data = data[data['Date'].dt.year == year]\n",
    "    yb_data = yearbook_df[yearbook_df['Year'] == year]\n",
    "    \n",
    "    # use names as key to filter all data\n",
    "    re_names = rs_data['NAME'].unique()\n",
    "    yb_names = yb_data['Region'].unique()\n",
    "    intersect_names = list(set(re_names) & set(yb_names))\n",
    "    \n",
    "    # use the intersect_nams to filter Remote-sensed data and Yearbook data\n",
    "    RS_out_df = rs_data[rs_data['NAME'].isin(intersect_names)]\n",
    "    Yb_out_df = yb_data[yb_data['Region'].isin(intersect_names)]\n",
    "    \n",
    "    # append data to list\n",
    "    RS_data_list.append(RS_out_df)\n",
    "    YB_data_list.append(Yb_out_df)"
   ]
  },
  {
   "cell_type": "code",
   "execution_count": null,
   "metadata": {},
   "outputs": [],
   "source": []
  },
  {
   "cell_type": "code",
   "execution_count": 16,
   "metadata": {},
   "outputs": [],
   "source": [
    "# concat all df into one df\n",
    "remote_data = pd.concat(RS_data_list,0)\n",
    "yrbook_data = pd.concat(YB_data_list,0)\n",
    "\n",
    "# save data to drive\n",
    "remote_data.to_csv('./Data/without_cloud_mask/Remote_data.csv',index=False,encoding='utf-8-sig')\n",
    "yrbook_data.to_csv('./Data/without_cloud_mask/Yrbook_data.csv',index=False,encoding='utf-8-sig')"
   ]
  },
  {
   "cell_type": "code",
   "execution_count": null,
   "metadata": {},
   "outputs": [],
   "source": []
  },
  {
   "cell_type": "code",
   "execution_count": null,
   "metadata": {},
   "outputs": [],
   "source": []
  },
  {
   "cell_type": "code",
   "execution_count": null,
   "metadata": {},
   "outputs": [],
   "source": []
  },
  {
   "cell_type": "code",
   "execution_count": null,
   "metadata": {},
   "outputs": [],
   "source": []
  },
  {
   "cell_type": "code",
   "execution_count": null,
   "metadata": {},
   "outputs": [],
   "source": []
  },
  {
   "cell_type": "code",
   "execution_count": null,
   "metadata": {},
   "outputs": [],
   "source": []
  }
 ],
 "metadata": {
  "kernelspec": {
   "display_name": "Python 3",
   "language": "python",
   "name": "python3"
  },
  "language_info": {
   "codemirror_mode": {
    "name": "ipython",
    "version": 3
   },
   "file_extension": ".py",
   "mimetype": "text/x-python",
   "name": "python",
   "nbconvert_exporter": "python",
   "pygments_lexer": "ipython3",
   "version": "3.7.3"
  }
 },
 "nbformat": 4,
 "nbformat_minor": 2
}
