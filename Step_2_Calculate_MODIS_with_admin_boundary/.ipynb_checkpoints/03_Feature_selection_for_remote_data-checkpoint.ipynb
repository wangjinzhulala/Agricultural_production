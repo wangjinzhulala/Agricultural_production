{
 "cells": [
  {
   "cell_type": "code",
   "execution_count": 1,
   "metadata": {
    "collapsed": true
   },
   "outputs": [
    {
     "name": "stderr",
     "output_type": "stream",
     "text": [
      "In C:\\Users\\wangj\\Anaconda3\\envs\\ee_py3\\lib\\site-packages\\matplotlib\\mpl-data\\stylelib\\_classic_test.mplstyle: \n",
      "The text.latex.preview rcparam was deprecated in Matplotlib 3.3 and will be removed two minor releases later.\n",
      "In C:\\Users\\wangj\\Anaconda3\\envs\\ee_py3\\lib\\site-packages\\matplotlib\\mpl-data\\stylelib\\_classic_test.mplstyle: \n",
      "The mathtext.fallback_to_cm rcparam was deprecated in Matplotlib 3.3 and will be removed two minor releases later.\n",
      "In C:\\Users\\wangj\\Anaconda3\\envs\\ee_py3\\lib\\site-packages\\matplotlib\\mpl-data\\stylelib\\_classic_test.mplstyle: Support for setting the 'mathtext.fallback_to_cm' rcParam is deprecated since 3.3 and will be removed two minor releases later; use 'mathtext.fallback : 'cm' instead.\n",
      "In C:\\Users\\wangj\\Anaconda3\\envs\\ee_py3\\lib\\site-packages\\matplotlib\\mpl-data\\stylelib\\_classic_test.mplstyle: \n",
      "The validate_bool_maybe_none function was deprecated in Matplotlib 3.3 and will be removed two minor releases later.\n",
      "In C:\\Users\\wangj\\Anaconda3\\envs\\ee_py3\\lib\\site-packages\\matplotlib\\mpl-data\\stylelib\\_classic_test.mplstyle: \n",
      "The savefig.jpeg_quality rcparam was deprecated in Matplotlib 3.3 and will be removed two minor releases later.\n",
      "In C:\\Users\\wangj\\Anaconda3\\envs\\ee_py3\\lib\\site-packages\\matplotlib\\mpl-data\\stylelib\\_classic_test.mplstyle: \n",
      "The keymap.all_axes rcparam was deprecated in Matplotlib 3.3 and will be removed two minor releases later.\n",
      "In C:\\Users\\wangj\\Anaconda3\\envs\\ee_py3\\lib\\site-packages\\matplotlib\\mpl-data\\stylelib\\_classic_test.mplstyle: \n",
      "The animation.avconv_path rcparam was deprecated in Matplotlib 3.3 and will be removed two minor releases later.\n",
      "In C:\\Users\\wangj\\Anaconda3\\envs\\ee_py3\\lib\\site-packages\\matplotlib\\mpl-data\\stylelib\\_classic_test.mplstyle: \n",
      "The animation.avconv_args rcparam was deprecated in Matplotlib 3.3 and will be removed two minor releases later.\n"
     ]
    }
   ],
   "source": [
    "import numpy as np\n",
    "import pandas as pd\n",
    "import matplotlib.pyplot as plt\n",
    "import seaborn as sns"
   ]
  },
  {
   "cell_type": "code",
   "execution_count": null,
   "metadata": {},
   "outputs": [],
   "source": []
  },
  {
   "cell_type": "code",
   "execution_count": 2,
   "metadata": {},
   "outputs": [],
   "source": [
    "# import data\n",
    "rs_data = pd.read_csv('./Data/without_cloud_mask/Remote_data.csv')\\\n",
    "            .drop(['Date','NAME','Area'],1)"
   ]
  },
  {
   "cell_type": "code",
   "execution_count": 3,
   "metadata": {},
   "outputs": [
    {
     "data": {
      "text/html": [
       "<div>\n",
       "<style scoped>\n",
       "    .dataframe tbody tr th:only-of-type {\n",
       "        vertical-align: middle;\n",
       "    }\n",
       "\n",
       "    .dataframe tbody tr th {\n",
       "        vertical-align: top;\n",
       "    }\n",
       "\n",
       "    .dataframe thead th {\n",
       "        text-align: right;\n",
       "    }\n",
       "</style>\n",
       "<table border=\"1\" class=\"dataframe\">\n",
       "  <thead>\n",
       "    <tr style=\"text-align: right;\">\n",
       "      <th></th>\n",
       "      <th>Albedo_inst</th>\n",
       "      <th>AvgSurfT_inst</th>\n",
       "      <th>CanopInt_inst</th>\n",
       "      <th>ECanop_tavg</th>\n",
       "      <th>ESoil_tavg</th>\n",
       "      <th>Evap_tavg</th>\n",
       "      <th>LWdown_f_tavg</th>\n",
       "      <th>Lwnet_tavg</th>\n",
       "      <th>PotEvap_tavg</th>\n",
       "      <th>Psurf_f_inst</th>\n",
       "      <th>...</th>\n",
       "      <th>SoilMoi40_100cm_inst</th>\n",
       "      <th>SoilTMP0_10cm_inst</th>\n",
       "      <th>SoilTMP100_200cm_inst</th>\n",
       "      <th>SoilTMP10_40cm_inst</th>\n",
       "      <th>SoilTMP40_100cm_inst</th>\n",
       "      <th>Swnet_tavg</th>\n",
       "      <th>Tair_f_inst</th>\n",
       "      <th>Tveg_tavg</th>\n",
       "      <th>Wind_f_inst</th>\n",
       "      <th>NDVI</th>\n",
       "    </tr>\n",
       "  </thead>\n",
       "  <tbody>\n",
       "    <tr>\n",
       "      <th>0</th>\n",
       "      <td>18.423127</td>\n",
       "      <td>278.973359</td>\n",
       "      <td>0.042567</td>\n",
       "      <td>4.106985</td>\n",
       "      <td>17.523134</td>\n",
       "      <td>0.000012</td>\n",
       "      <td>278.508345</td>\n",
       "      <td>-61.399424</td>\n",
       "      <td>98.406877</td>\n",
       "      <td>101428.941808</td>\n",
       "      <td>...</td>\n",
       "      <td>160.006416</td>\n",
       "      <td>279.448185</td>\n",
       "      <td>283.110664</td>\n",
       "      <td>279.922253</td>\n",
       "      <td>281.211210</td>\n",
       "      <td>71.784304</td>\n",
       "      <td>280.512647</td>\n",
       "      <td>8.447369</td>\n",
       "      <td>3.821237</td>\n",
       "      <td>0.387425</td>\n",
       "    </tr>\n",
       "    <tr>\n",
       "      <th>1</th>\n",
       "      <td>18.577235</td>\n",
       "      <td>278.230504</td>\n",
       "      <td>0.020431</td>\n",
       "      <td>2.967367</td>\n",
       "      <td>10.439595</td>\n",
       "      <td>0.000008</td>\n",
       "      <td>277.982970</td>\n",
       "      <td>-58.126265</td>\n",
       "      <td>58.183541</td>\n",
       "      <td>101769.232633</td>\n",
       "      <td>...</td>\n",
       "      <td>159.590881</td>\n",
       "      <td>278.373212</td>\n",
       "      <td>283.031702</td>\n",
       "      <td>279.850869</td>\n",
       "      <td>281.178303</td>\n",
       "      <td>80.134545</td>\n",
       "      <td>279.461531</td>\n",
       "      <td>5.747781</td>\n",
       "      <td>1.777187</td>\n",
       "      <td>0.387425</td>\n",
       "    </tr>\n",
       "    <tr>\n",
       "      <th>2</th>\n",
       "      <td>18.459500</td>\n",
       "      <td>275.109867</td>\n",
       "      <td>0.000000</td>\n",
       "      <td>0.003391</td>\n",
       "      <td>21.374002</td>\n",
       "      <td>0.000012</td>\n",
       "      <td>238.130987</td>\n",
       "      <td>-81.963728</td>\n",
       "      <td>123.216960</td>\n",
       "      <td>102133.057618</td>\n",
       "      <td>...</td>\n",
       "      <td>159.230357</td>\n",
       "      <td>276.877828</td>\n",
       "      <td>282.953398</td>\n",
       "      <td>279.476251</td>\n",
       "      <td>281.104734</td>\n",
       "      <td>97.947352</td>\n",
       "      <td>275.602725</td>\n",
       "      <td>6.810954</td>\n",
       "      <td>4.485382</td>\n",
       "      <td>0.120019</td>\n",
       "    </tr>\n",
       "    <tr>\n",
       "      <th>3</th>\n",
       "      <td>18.389800</td>\n",
       "      <td>275.693528</td>\n",
       "      <td>0.000000</td>\n",
       "      <td>0.001083</td>\n",
       "      <td>9.070885</td>\n",
       "      <td>0.000005</td>\n",
       "      <td>258.268999</td>\n",
       "      <td>-65.447586</td>\n",
       "      <td>53.365314</td>\n",
       "      <td>102221.879024</td>\n",
       "      <td>...</td>\n",
       "      <td>158.746793</td>\n",
       "      <td>276.083430</td>\n",
       "      <td>282.874753</td>\n",
       "      <td>278.914702</td>\n",
       "      <td>280.952225</td>\n",
       "      <td>92.684368</td>\n",
       "      <td>276.159525</td>\n",
       "      <td>4.729566</td>\n",
       "      <td>2.708520</td>\n",
       "      <td>0.105565</td>\n",
       "    </tr>\n",
       "    <tr>\n",
       "      <th>4</th>\n",
       "      <td>18.429593</td>\n",
       "      <td>278.256112</td>\n",
       "      <td>0.000608</td>\n",
       "      <td>0.196932</td>\n",
       "      <td>12.183381</td>\n",
       "      <td>0.000007</td>\n",
       "      <td>307.032400</td>\n",
       "      <td>-30.357620</td>\n",
       "      <td>73.595106</td>\n",
       "      <td>102135.807564</td>\n",
       "      <td>...</td>\n",
       "      <td>158.385845</td>\n",
       "      <td>277.783973</td>\n",
       "      <td>282.790518</td>\n",
       "      <td>278.777222</td>\n",
       "      <td>280.761177</td>\n",
       "      <td>77.712049</td>\n",
       "      <td>277.894870</td>\n",
       "      <td>5.142580</td>\n",
       "      <td>4.319664</td>\n",
       "      <td>0.183901</td>\n",
       "    </tr>\n",
       "  </tbody>\n",
       "</table>\n",
       "<p>5 rows × 37 columns</p>\n",
       "</div>"
      ],
      "text/plain": [
       "   Albedo_inst  AvgSurfT_inst  CanopInt_inst  ECanop_tavg  ESoil_tavg  \\\n",
       "0    18.423127     278.973359       0.042567     4.106985   17.523134   \n",
       "1    18.577235     278.230504       0.020431     2.967367   10.439595   \n",
       "2    18.459500     275.109867       0.000000     0.003391   21.374002   \n",
       "3    18.389800     275.693528       0.000000     0.001083    9.070885   \n",
       "4    18.429593     278.256112       0.000608     0.196932   12.183381   \n",
       "\n",
       "   Evap_tavg  LWdown_f_tavg  Lwnet_tavg  PotEvap_tavg   Psurf_f_inst  ...  \\\n",
       "0   0.000012     278.508345  -61.399424     98.406877  101428.941808  ...   \n",
       "1   0.000008     277.982970  -58.126265     58.183541  101769.232633  ...   \n",
       "2   0.000012     238.130987  -81.963728    123.216960  102133.057618  ...   \n",
       "3   0.000005     258.268999  -65.447586     53.365314  102221.879024  ...   \n",
       "4   0.000007     307.032400  -30.357620     73.595106  102135.807564  ...   \n",
       "\n",
       "   SoilMoi40_100cm_inst  SoilTMP0_10cm_inst  SoilTMP100_200cm_inst  \\\n",
       "0            160.006416          279.448185             283.110664   \n",
       "1            159.590881          278.373212             283.031702   \n",
       "2            159.230357          276.877828             282.953398   \n",
       "3            158.746793          276.083430             282.874753   \n",
       "4            158.385845          277.783973             282.790518   \n",
       "\n",
       "   SoilTMP10_40cm_inst  SoilTMP40_100cm_inst  Swnet_tavg  Tair_f_inst  \\\n",
       "0           279.922253            281.211210   71.784304   280.512647   \n",
       "1           279.850869            281.178303   80.134545   279.461531   \n",
       "2           279.476251            281.104734   97.947352   275.602725   \n",
       "3           278.914702            280.952225   92.684368   276.159525   \n",
       "4           278.777222            280.761177   77.712049   277.894870   \n",
       "\n",
       "   Tveg_tavg  Wind_f_inst      NDVI  \n",
       "0   8.447369     3.821237  0.387425  \n",
       "1   5.747781     1.777187  0.387425  \n",
       "2   6.810954     4.485382  0.120019  \n",
       "3   4.729566     2.708520  0.105565  \n",
       "4   5.142580     4.319664  0.183901  \n",
       "\n",
       "[5 rows x 37 columns]"
      ]
     },
     "execution_count": 3,
     "metadata": {},
     "output_type": "execute_result"
    }
   ],
   "source": [
    "rs_data.head()"
   ]
  },
  {
   "cell_type": "code",
   "execution_count": null,
   "metadata": {},
   "outputs": [],
   "source": []
  },
  {
   "cell_type": "markdown",
   "metadata": {},
   "source": [
    "##### See if there are features that have a very low variance"
   ]
  },
  {
   "cell_type": "code",
   "execution_count": 4,
   "metadata": {},
   "outputs": [],
   "source": [
    "from sklearn.feature_selection import VarianceThreshold"
   ]
  },
  {
   "cell_type": "code",
   "execution_count": 5,
   "metadata": {},
   "outputs": [],
   "source": [
    "# compute the variance of each feature\n",
    "variance_filter = VarianceThreshold()\n",
    "variance_filter.fit(rs_data)\n",
    "\n",
    "# find the features with a >0.01 variance\n",
    "keep_cols = rs_data.columns[variance_filter.variances_ > 0.01]\n",
    "\n",
    "# subset the original data\n",
    "high_var = rs_data[keep_cols]"
   ]
  },
  {
   "cell_type": "code",
   "execution_count": null,
   "metadata": {},
   "outputs": [],
   "source": []
  },
  {
   "cell_type": "markdown",
   "metadata": {},
   "source": [
    "##### See if some features are highly correated"
   ]
  },
  {
   "cell_type": "code",
   "execution_count": 6,
   "metadata": {},
   "outputs": [],
   "source": [
    "# compute the correlation between features\n",
    "corr = high_var.corr()"
   ]
  },
  {
   "cell_type": "code",
   "execution_count": 7,
   "metadata": {},
   "outputs": [
    {
     "data": {
      "text/plain": [
       "<AxesSubplot:>"
      ]
     },
     "execution_count": 7,
     "metadata": {},
     "output_type": "execute_result"
    },
    {
     "data": {
      "image/png": "[encoded data removed]",
      "text/plain": [
       "<Figure size 864x648 with 2 Axes>"
      ]
     },
     "metadata": {
      "needs_background": "light"
     },
     "output_type": "display_data"
    }
   ],
   "source": [
    "# plot the correlation \n",
    "plt.figure(figsize=(12,9))\n",
    "sns.heatmap(corr)"
   ]
  },
  {
   "cell_type": "code",
   "execution_count": null,
   "metadata": {},
   "outputs": [],
   "source": []
  },
  {
   "cell_type": "code",
   "execution_count": 8,
   "metadata": {},
   "outputs": [],
   "source": [
    "# function to loop through the crrelation matrix and \n",
    "# find out the feature with high variance (> threshold)\n",
    "\n",
    "def get_high_correlation(data,threshold):\n",
    "    \n",
    "    corr_col = set()\n",
    "    corr_mat = data.corr()\n",
    "    \n",
    "    # loop through row\n",
    "    for i in range(len(corr_mat)):\n",
    "        # fetch the ith row of the corr_mat\n",
    "        corr_arr = corr_mat.iloc[i,:]\n",
    "        # convert the row into a list\n",
    "        corr_arr_list = list(corr_arr)\n",
    "        # remove the corr of a feature to itself\n",
    "        corr_arr_list.pop(i)\n",
    "        \n",
    "        # if any of the correlation value for this feature is greater than threshold\n",
    "        # then add it to the corr_col\n",
    "        if (np.array(corr_arr_list)>threshold).sum() > 0:\n",
    "            feature_name = corr_mat.columns[i]\n",
    "            corr_col.add(feature_name)\n",
    "            \n",
    "    return corr_col"
   ]
  },
  {
   "cell_type": "code",
   "execution_count": null,
   "metadata": {},
   "outputs": [],
   "source": []
  },
  {
   "cell_type": "code",
   "execution_count": 11,
   "metadata": {},
   "outputs": [],
   "source": [
    "# get the features with high correlation with others\n",
    "col_to_remove = get_high_correlation(high_var,0.85)\n",
    "\n",
    "# remove these features\n",
    "low_corr = high_var.drop(col_to_remove,1)\n",
    "\n",
    "# save the data to drive\n",
    "low_corr.to_csv('./Data/without_cloud_mask/RS_data_selected.csv',index=False,encoding='utf-8-sig')"
   ]
  },
  {
   "cell_type": "code",
   "execution_count": null,
   "metadata": {},
   "outputs": [],
   "source": []
  },
  {
   "cell_type": "code",
   "execution_count": null,
   "metadata": {},
   "outputs": [],
   "source": []
  },
  {
   "cell_type": "code",
   "execution_count": null,
   "metadata": {},
   "outputs": [],
   "source": []
  },
  {
   "cell_type": "code",
   "execution_count": null,
   "metadata": {},
   "outputs": [],
   "source": []
  },
  {
   "cell_type": "code",
   "execution_count": null,
   "metadata": {},
   "outputs": [],
   "source": []
  },
  {
   "cell_type": "code",
   "execution_count": null,
   "metadata": {},
   "outputs": [],
   "source": []
  },
  {
   "cell_type": "code",
   "execution_count": null,
   "metadata": {},
   "outputs": [],
   "source": []
  },
  {
   "cell_type": "code",
   "execution_count": null,
   "metadata": {},
   "outputs": [],
   "source": []
  },
  {
   "cell_type": "code",
   "execution_count": null,
   "metadata": {},
   "outputs": [],
   "source": []
  }
 ],
 "metadata": {
  "kernelspec": {
   "display_name": "Python 3",
   "language": "python",
   "name": "python3"
  },
  "language_info": {
   "codemirror_mode": {
    "name": "ipython",
    "version": 3
   },
   "file_extension": ".py",
   "mimetype": "text/x-python",
   "name": "python",
   "nbconvert_exporter": "python",
   "pygments_lexer": "ipython3",
   "version": "3.7.3"
  }
 },
 "nbformat": 4,
 "nbformat_minor": 2
}
