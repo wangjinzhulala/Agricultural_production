{
 "cells": [
  {
   "cell_type": "code",
   "execution_count": 21,
   "metadata": {},
   "outputs": [],
   "source": [
    "import pandas as pd\n",
    "import numpy as np \n",
    "import matplotlib.pyplot as plt\n",
    "import seaborn as sns\n",
    "from datetime import datetime\n",
    "\n",
    "import glob"
   ]
  },
  {
   "cell_type": "code",
   "execution_count": null,
   "metadata": {},
   "outputs": [],
   "source": []
  },
  {
   "cell_type": "code",
   "execution_count": 2,
   "metadata": {},
   "outputs": [],
   "source": [
    "# define the years \n",
    "Year = list(range(2001,2009)) + list(range(2013,2019))"
   ]
  },
  {
   "cell_type": "code",
   "execution_count": null,
   "metadata": {},
   "outputs": [],
   "source": []
  },
  {
   "cell_type": "code",
   "execution_count": 3,
   "metadata": {},
   "outputs": [],
   "source": [
    "# read MODIS_Climate csv\n",
    "\n",
    "all_csv = glob.glob('./Data/*.csv')\n",
    "all_df = []\n",
    "\n",
    "for f in all_csv:\n",
    "    # reand the df and parse date\n",
    "    df = pd.read_csv(f,parse_dates=['Date'],date_parser= lambda x: datetime.strptime(x, \"%Y_%m_%d\")).drop('X',1)\n",
    "    # create Day of year column\n",
    "    df['Day_of_Year'] = df['Date'].dt.dayofyear\n",
    "    \n",
    "    all_df.append(df)"
   ]
  },
  {
   "cell_type": "code",
   "execution_count": null,
   "metadata": {},
   "outputs": [],
   "source": []
  },
  {
   "cell_type": "code",
   "execution_count": 4,
   "metadata": {
    "scrolled": true
   },
   "outputs": [
    {
     "data": {
      "text/html": [
       "<div>\n",
       "<style scoped>\n",
       "    .dataframe tbody tr th:only-of-type {\n",
       "        vertical-align: middle;\n",
       "    }\n",
       "\n",
       "    .dataframe tbody tr th {\n",
       "        vertical-align: top;\n",
       "    }\n",
       "\n",
       "    .dataframe thead th {\n",
       "        text-align: right;\n",
       "    }\n",
       "</style>\n",
       "<table border=\"1\" class=\"dataframe\">\n",
       "  <thead>\n",
       "    <tr style=\"text-align: right;\">\n",
       "      <th></th>\n",
       "      <th>Date</th>\n",
       "      <th>dewpoint_2m_temperature</th>\n",
       "      <th>maximum_2m_air_temperature</th>\n",
       "      <th>mean_2m_air_temperature</th>\n",
       "      <th>mean_sea_level_pressure</th>\n",
       "      <th>minimum_2m_air_temperature</th>\n",
       "      <th>surface_pressure</th>\n",
       "      <th>total_precipitation</th>\n",
       "      <th>u_component_of_wind_10m</th>\n",
       "      <th>v_component_of_wind_10m</th>\n",
       "      <th>NDVI</th>\n",
       "      <th>Name</th>\n",
       "      <th>Day_of_Year</th>\n",
       "    </tr>\n",
       "  </thead>\n",
       "  <tbody>\n",
       "    <tr>\n",
       "      <th>0</th>\n",
       "      <td>2001-01-02</td>\n",
       "      <td>272.064575</td>\n",
       "      <td>282.056998</td>\n",
       "      <td>278.353960</td>\n",
       "      <td>102254.052504</td>\n",
       "      <td>273.617831</td>\n",
       "      <td>101557.030114</td>\n",
       "      <td>1.862645e-09</td>\n",
       "      <td>0.840412</td>\n",
       "      <td>0.233821</td>\n",
       "      <td>0.387465</td>\n",
       "      <td>上蔡县</td>\n",
       "      <td>2</td>\n",
       "    </tr>\n",
       "    <tr>\n",
       "      <th>1</th>\n",
       "      <td>2001-01-03</td>\n",
       "      <td>270.255792</td>\n",
       "      <td>279.008149</td>\n",
       "      <td>275.206540</td>\n",
       "      <td>102618.242953</td>\n",
       "      <td>272.549651</td>\n",
       "      <td>101903.860469</td>\n",
       "      <td>4.284084e-08</td>\n",
       "      <td>-1.244699</td>\n",
       "      <td>-2.419022</td>\n",
       "      <td>0.120914</td>\n",
       "      <td>上蔡县</td>\n",
       "      <td>3</td>\n",
       "    </tr>\n",
       "    <tr>\n",
       "      <th>2</th>\n",
       "      <td>2001-01-07</td>\n",
       "      <td>272.209771</td>\n",
       "      <td>275.425242</td>\n",
       "      <td>273.693676</td>\n",
       "      <td>102326.625375</td>\n",
       "      <td>270.332087</td>\n",
       "      <td>101608.514266</td>\n",
       "      <td>5.570087e-03</td>\n",
       "      <td>-0.921020</td>\n",
       "      <td>-2.970269</td>\n",
       "      <td>0.289191</td>\n",
       "      <td>上蔡县</td>\n",
       "      <td>7</td>\n",
       "    </tr>\n",
       "    <tr>\n",
       "      <th>3</th>\n",
       "      <td>2001-01-09</td>\n",
       "      <td>271.051636</td>\n",
       "      <td>274.665287</td>\n",
       "      <td>272.210990</td>\n",
       "      <td>102581.887209</td>\n",
       "      <td>269.563906</td>\n",
       "      <td>101862.060915</td>\n",
       "      <td>1.225829e-06</td>\n",
       "      <td>0.388386</td>\n",
       "      <td>1.783465</td>\n",
       "      <td>0.018285</td>\n",
       "      <td>上蔡县</td>\n",
       "      <td>9</td>\n",
       "    </tr>\n",
       "    <tr>\n",
       "      <th>4</th>\n",
       "      <td>2001-01-10</td>\n",
       "      <td>272.233286</td>\n",
       "      <td>279.421882</td>\n",
       "      <td>275.098666</td>\n",
       "      <td>101732.241632</td>\n",
       "      <td>270.855175</td>\n",
       "      <td>101029.873834</td>\n",
       "      <td>1.862645e-09</td>\n",
       "      <td>2.602304</td>\n",
       "      <td>1.375216</td>\n",
       "      <td>0.181111</td>\n",
       "      <td>上蔡县</td>\n",
       "      <td>10</td>\n",
       "    </tr>\n",
       "    <tr>\n",
       "      <th>...</th>\n",
       "      <td>...</td>\n",
       "      <td>...</td>\n",
       "      <td>...</td>\n",
       "      <td>...</td>\n",
       "      <td>...</td>\n",
       "      <td>...</td>\n",
       "      <td>...</td>\n",
       "      <td>...</td>\n",
       "      <td>...</td>\n",
       "      <td>...</td>\n",
       "      <td>...</td>\n",
       "      <td>...</td>\n",
       "      <td>...</td>\n",
       "    </tr>\n",
       "    <tr>\n",
       "      <th>221</th>\n",
       "      <td>2001-12-25</td>\n",
       "      <td>262.043263</td>\n",
       "      <td>274.226597</td>\n",
       "      <td>271.578690</td>\n",
       "      <td>103848.718690</td>\n",
       "      <td>265.507917</td>\n",
       "      <td>103115.161736</td>\n",
       "      <td>0.000000e+00</td>\n",
       "      <td>-0.403797</td>\n",
       "      <td>0.509810</td>\n",
       "      <td>0.442301</td>\n",
       "      <td>上蔡县</td>\n",
       "      <td>359</td>\n",
       "    </tr>\n",
       "    <tr>\n",
       "      <th>222</th>\n",
       "      <td>2001-12-27</td>\n",
       "      <td>266.436877</td>\n",
       "      <td>278.996294</td>\n",
       "      <td>273.399972</td>\n",
       "      <td>103504.411446</td>\n",
       "      <td>268.223229</td>\n",
       "      <td>102784.802312</td>\n",
       "      <td>0.000000e+00</td>\n",
       "      <td>1.230625</td>\n",
       "      <td>-0.419667</td>\n",
       "      <td>0.298237</td>\n",
       "      <td>上蔡县</td>\n",
       "      <td>361</td>\n",
       "    </tr>\n",
       "    <tr>\n",
       "      <th>223</th>\n",
       "      <td>2001-12-28</td>\n",
       "      <td>267.859102</td>\n",
       "      <td>282.322193</td>\n",
       "      <td>276.544379</td>\n",
       "      <td>102818.926952</td>\n",
       "      <td>271.264223</td>\n",
       "      <td>102112.249605</td>\n",
       "      <td>0.000000e+00</td>\n",
       "      <td>3.101723</td>\n",
       "      <td>-0.082607</td>\n",
       "      <td>0.388782</td>\n",
       "      <td>上蔡县</td>\n",
       "      <td>362</td>\n",
       "    </tr>\n",
       "    <tr>\n",
       "      <th>224</th>\n",
       "      <td>2001-12-29</td>\n",
       "      <td>268.208917</td>\n",
       "      <td>285.196599</td>\n",
       "      <td>277.029036</td>\n",
       "      <td>102378.863780</td>\n",
       "      <td>271.087512</td>\n",
       "      <td>101681.303569</td>\n",
       "      <td>0.000000e+00</td>\n",
       "      <td>2.492154</td>\n",
       "      <td>-0.201613</td>\n",
       "      <td>0.387797</td>\n",
       "      <td>上蔡县</td>\n",
       "      <td>363</td>\n",
       "    </tr>\n",
       "    <tr>\n",
       "      <th>225</th>\n",
       "      <td>2001-12-30</td>\n",
       "      <td>274.905522</td>\n",
       "      <td>286.162101</td>\n",
       "      <td>279.826120</td>\n",
       "      <td>101891.088625</td>\n",
       "      <td>271.409913</td>\n",
       "      <td>101199.499966</td>\n",
       "      <td>1.284828e-05</td>\n",
       "      <td>1.289868</td>\n",
       "      <td>2.113745</td>\n",
       "      <td>0.203680</td>\n",
       "      <td>上蔡县</td>\n",
       "      <td>364</td>\n",
       "    </tr>\n",
       "  </tbody>\n",
       "</table>\n",
       "<p>226 rows × 13 columns</p>\n",
       "</div>"
      ],
      "text/plain": [
       "          Date  dewpoint_2m_temperature  maximum_2m_air_temperature  \\\n",
       "0   2001-01-02               272.064575                  282.056998   \n",
       "1   2001-01-03               270.255792                  279.008149   \n",
       "2   2001-01-07               272.209771                  275.425242   \n",
       "3   2001-01-09               271.051636                  274.665287   \n",
       "4   2001-01-10               272.233286                  279.421882   \n",
       "..         ...                      ...                         ...   \n",
       "221 2001-12-25               262.043263                  274.226597   \n",
       "222 2001-12-27               266.436877                  278.996294   \n",
       "223 2001-12-28               267.859102                  282.322193   \n",
       "224 2001-12-29               268.208917                  285.196599   \n",
       "225 2001-12-30               274.905522                  286.162101   \n",
       "\n",
       "     mean_2m_air_temperature  mean_sea_level_pressure  \\\n",
       "0                 278.353960            102254.052504   \n",
       "1                 275.206540            102618.242953   \n",
       "2                 273.693676            102326.625375   \n",
       "3                 272.210990            102581.887209   \n",
       "4                 275.098666            101732.241632   \n",
       "..                       ...                      ...   \n",
       "221               271.578690            103848.718690   \n",
       "222               273.399972            103504.411446   \n",
       "223               276.544379            102818.926952   \n",
       "224               277.029036            102378.863780   \n",
       "225               279.826120            101891.088625   \n",
       "\n",
       "     minimum_2m_air_temperature  surface_pressure  total_precipitation  \\\n",
       "0                    273.617831     101557.030114         1.862645e-09   \n",
       "1                    272.549651     101903.860469         4.284084e-08   \n",
       "2                    270.332087     101608.514266         5.570087e-03   \n",
       "3                    269.563906     101862.060915         1.225829e-06   \n",
       "4                    270.855175     101029.873834         1.862645e-09   \n",
       "..                          ...               ...                  ...   \n",
       "221                  265.507917     103115.161736         0.000000e+00   \n",
       "222                  268.223229     102784.802312         0.000000e+00   \n",
       "223                  271.264223     102112.249605         0.000000e+00   \n",
       "224                  271.087512     101681.303569         0.000000e+00   \n",
       "225                  271.409913     101199.499966         1.284828e-05   \n",
       "\n",
       "     u_component_of_wind_10m  v_component_of_wind_10m      NDVI Name  \\\n",
       "0                   0.840412                 0.233821  0.387465  上蔡县   \n",
       "1                  -1.244699                -2.419022  0.120914  上蔡县   \n",
       "2                  -0.921020                -2.970269  0.289191  上蔡县   \n",
       "3                   0.388386                 1.783465  0.018285  上蔡县   \n",
       "4                   2.602304                 1.375216  0.181111  上蔡县   \n",
       "..                       ...                      ...       ...  ...   \n",
       "221                -0.403797                 0.509810  0.442301  上蔡县   \n",
       "222                 1.230625                -0.419667  0.298237  上蔡县   \n",
       "223                 3.101723                -0.082607  0.388782  上蔡县   \n",
       "224                 2.492154                -0.201613  0.387797  上蔡县   \n",
       "225                 1.289868                 2.113745  0.203680  上蔡县   \n",
       "\n",
       "     Day_of_Year  \n",
       "0              2  \n",
       "1              3  \n",
       "2              7  \n",
       "3              9  \n",
       "4             10  \n",
       "..           ...  \n",
       "221          359  \n",
       "222          361  \n",
       "223          362  \n",
       "224          363  \n",
       "225          364  \n",
       "\n",
       "[226 rows x 13 columns]"
      ]
     },
     "execution_count": 4,
     "metadata": {},
     "output_type": "execute_result"
    }
   ],
   "source": [
    "all_df[0]"
   ]
  },
  {
   "cell_type": "code",
   "execution_count": 5,
   "metadata": {},
   "outputs": [
    {
     "data": {
      "text/plain": [
       "Index(['Date', 'dewpoint_2m_temperature', 'maximum_2m_air_temperature',\n",
       "       'mean_2m_air_temperature', 'mean_sea_level_pressure',\n",
       "       'minimum_2m_air_temperature', 'surface_pressure', 'total_precipitation',\n",
       "       'u_component_of_wind_10m', 'v_component_of_wind_10m', 'NDVI', 'Name',\n",
       "       'Day_of_Year'],\n",
       "      dtype='object')"
      ]
     },
     "execution_count": 5,
     "metadata": {},
     "output_type": "execute_result"
    }
   ],
   "source": [
    "all_df[0].columns"
   ]
  },
  {
   "cell_type": "code",
   "execution_count": 16,
   "metadata": {},
   "outputs": [
    {
     "data": {
      "text/plain": [
       "<AxesSubplot:xlabel='Date', ylabel='NDVI'>"
      ]
     },
     "execution_count": 16,
     "metadata": {},
     "output_type": "execute_result"
    },
    {
     "data": {
      "image/png": "[encoded data removed]",
      "text/plain": [
       "<Figure size 432x288 with 1 Axes>"
      ]
     },
     "metadata": {
      "needs_background": "light"
     },
     "output_type": "display_data"
    }
   ],
   "source": [
    "sns.scatterplot(data=all_df[0],x='Date',y='NDVI') "
   ]
  },
  {
   "cell_type": "code",
   "execution_count": 17,
   "metadata": {},
   "outputs": [],
   "source": [
    "df = all_df[0]"
   ]
  },
  {
   "cell_type": "code",
   "execution_count": 18,
   "metadata": {},
   "outputs": [],
   "source": [
    "pcp = df['NDVI']"
   ]
  },
  {
   "cell_type": "code",
   "execution_count": 19,
   "metadata": {},
   "outputs": [
    {
     "data": {
      "text/plain": [
       "0      0.387465\n",
       "1      0.120914\n",
       "2      0.289191\n",
       "3      0.018285\n",
       "4      0.181111\n",
       "         ...   \n",
       "221    0.442301\n",
       "222    0.298237\n",
       "223    0.388782\n",
       "224    0.387797\n",
       "225    0.203680\n",
       "Name: NDVI, Length: 226, dtype: float64"
      ]
     },
     "execution_count": 19,
     "metadata": {},
     "output_type": "execute_result"
    }
   ],
   "source": [
    "pcp"
   ]
  },
  {
   "cell_type": "code",
   "execution_count": 20,
   "metadata": {},
   "outputs": [
    {
     "data": {
      "text/plain": [
       "<AxesSubplot:>"
      ]
     },
     "execution_count": 20,
     "metadata": {},
     "output_type": "execute_result"
    },
    {
     "data": {
      "image/png": "[encoded data removed]",
      "text/plain": [
       "<Figure size 432x288 with 1 Axes>"
      ]
     },
     "metadata": {
      "needs_background": "light"
     },
     "output_type": "display_data"
    }
   ],
   "source": [
    "N = 7\n",
    "pcp.rolling(7).sum().plot()"
   ]
  },
  {
   "cell_type": "code",
   "execution_count": null,
   "metadata": {},
   "outputs": [],
   "source": []
  },
  {
   "cell_type": "code",
   "execution_count": null,
   "metadata": {},
   "outputs": [],
   "source": []
  },
  {
   "cell_type": "code",
   "execution_count": null,
   "metadata": {},
   "outputs": [],
   "source": []
  },
  {
   "cell_type": "code",
   "execution_count": null,
   "metadata": {},
   "outputs": [],
   "source": []
  },
  {
   "cell_type": "code",
   "execution_count": null,
   "metadata": {},
   "outputs": [],
   "source": []
  },
  {
   "cell_type": "code",
   "execution_count": null,
   "metadata": {},
   "outputs": [],
   "source": []
  },
  {
   "cell_type": "code",
   "execution_count": null,
   "metadata": {},
   "outputs": [],
   "source": []
  },
  {
   "cell_type": "code",
   "execution_count": null,
   "metadata": {},
   "outputs": [],
   "source": []
  },
  {
   "cell_type": "code",
   "execution_count": null,
   "metadata": {},
   "outputs": [],
   "source": []
  },
  {
   "cell_type": "code",
   "execution_count": null,
   "metadata": {},
   "outputs": [],
   "source": []
  },
  {
   "cell_type": "code",
   "execution_count": null,
   "metadata": {},
   "outputs": [],
   "source": []
  },
  {
   "cell_type": "code",
   "execution_count": null,
   "metadata": {},
   "outputs": [],
   "source": []
  },
  {
   "cell_type": "code",
   "execution_count": null,
   "metadata": {},
   "outputs": [],
   "source": []
  },
  {
   "cell_type": "code",
   "execution_count": null,
   "metadata": {},
   "outputs": [],
   "source": []
  },
  {
   "cell_type": "code",
   "execution_count": null,
   "metadata": {},
   "outputs": [],
   "source": []
  }
 ],
 "metadata": {
  "kernelspec": {
   "display_name": "Python 3",
   "language": "python",
   "name": "python3"
  },
  "language_info": {
   "codemirror_mode": {
    "name": "ipython",
    "version": 3
   },
   "file_extension": ".py",
   "mimetype": "text/x-python",
   "name": "python",
   "nbconvert_exporter": "python",
   "pygments_lexer": "ipython3",
   "version": "3.7.3"
  }
 },
 "nbformat": 4,
 "nbformat_minor": 2
}
